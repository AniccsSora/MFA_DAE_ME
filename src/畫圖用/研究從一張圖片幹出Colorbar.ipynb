{
 "cells": [
  {
   "cell_type": "code",
   "execution_count": 1,
   "id": "c89badf9-fc01-4fb7-a349-d1ecc5c6fdbb",
   "metadata": {},
   "outputs": [],
   "source": [
    "import numpy as np\n",
    "import cv2\n",
    "import matplotlib.pyplot as plt\n",
    "from PIL import Image\n",
    "import os"
   ]
  },
  {
   "cell_type": "code",
   "execution_count": 2,
   "id": "d852e5af-4406-49ae-887f-2097484f41f6",
   "metadata": {},
   "outputs": [],
   "source": [
    "# 讀入一張要判斷色階的圖片 (colorbar)\n",
    "raw = cv2.imread(\"Adobe_colorbar_non_Sort.png\", cv2.IMREAD_COLOR)\n",
    "res = np.zeros(shape=raw.shape, dtype=raw.dtype)\n",
    "\n",
    "# 拆 BGR 通道\n",
    "B, G, R = raw[::,::,0],raw[::,::,1],raw[::,::,2]\n",
    "# 計算亮度是用浮點數\n",
    "B,G,R = B/255., G/255., R/255.\n",
    "# 公式參照 : HSP Color Model — Alternative to HSV (HSB) and HSL\n",
    "# url: https://alienryderflex.com/hsp.html\n",
    "L = np.sqrt( 0.299*R**2 + 0.587*G**2 + 0.114*B**2)  # 計算感知亮度公式\n",
    "\n",
    "_flt_L_idx = np.argsort(L.reshape(-1))  # 算好排序過的 IDX\n",
    "_flt_raw = raw.reshape((1,-1,3))  # 統一展平\n",
    "_flt_res = res.reshape((1,-1,3))  # 統一展平"
   ]
  },
  {
   "cell_type": "code",
   "execution_count": 29,
   "id": "88ae2aa5-1c84-4be2-932f-d2f8eb09d69a",
   "metadata": {},
   "outputs": [
    {
     "data": {
      "image/png": "[encoded data removed]",
      "text/plain": [
       "<Figure size 432x288 with 1 Axes>"
      ]
     },
     "metadata": {
      "needs_background": "light"
     },
     "output_type": "display_data"
    }
   ],
   "source": [
    "# 尚未排序的\n",
    "plt.imshow(cv2.cvtColor(raw, cv2.COLOR_BGR2RGB));\n",
    "plt.show()"
   ]
  },
  {
   "cell_type": "code",
   "execution_count": 4,
   "id": "1072107a-c72d-4ed4-b5df-5fe2300b7dc3",
   "metadata": {},
   "outputs": [],
   "source": [
    "# 排序好的 IDX 跟 走訪用的不要搞混。。。\n",
    "for i,sort_idx in enumerate(_flt_L_idx):\n",
    "    _flt_res[0][i] = _flt_raw[0, sort_idx]"
   ]
  },
  {
   "cell_type": "code",
   "execution_count": 5,
   "id": "ca747aa6-8454-40fd-a40e-15dc63231e15",
   "metadata": {},
   "outputs": [],
   "source": [
    "_flt_result = _flt_res.copy()  # 後續計算不重複色階用\n",
    "_flt_res = _flt_res.reshape(raw.shape)  # 展示排序結果用，注意是1D排好，畫2D顯示，所以亮度會呈現斜斜的"
   ]
  },
  {
   "cell_type": "code",
   "execution_count": 30,
   "id": "91cfa176-8a58-4392-9b72-b12ebccc0c97",
   "metadata": {},
   "outputs": [
    {
     "data": {
      "image/png": "[encoded data removed]",
      "text/plain": [
       "<Figure size 432x288 with 1 Axes>"
      ]
     },
     "metadata": {
      "needs_background": "light"
     },
     "output_type": "display_data"
    }
   ],
   "source": [
    "# 呈現排好的 2D\n",
    "plt.imshow(cv2.cvtColor(_flt_res, cv2.COLOR_BGR2RGB));"
   ]
  },
  {
   "cell_type": "code",
   "execution_count": 7,
   "id": "8ba7af05-6fcb-4a4b-9869-b4558316320d",
   "metadata": {},
   "outputs": [
    {
     "data": {
      "text/plain": [
       "True"
      ]
     },
     "execution_count": 7,
     "metadata": {},
     "output_type": "execute_result"
    }
   ],
   "source": [
    "# 儲存\n",
    "cv2.imwrite(\"Adobe_colorbar_2d_Sorted.png\", _flt_res)"
   ]
  },
  {
   "cell_type": "code",
   "execution_count": 8,
   "id": "5f34c59b-2ae0-44a4-8149-d598297063b5",
   "metadata": {},
   "outputs": [],
   "source": [
    "# 接下來計算 不重複元素構成的 colorbar\n",
    "all_diff_result = []\n",
    "\n",
    "# _flt_result.shape = (1, 5202, 3)\n",
    "for i in range(_flt_result.shape[1]):\n",
    "    if len(all_diff_result) == 0:\n",
    "        all_diff_result.append(_flt_result[0, i])\n",
    "    \n",
    "    else:\n",
    "        if np.all(all_diff_result[-1] == _flt_result[0, i]): # 上一個元素跟這次要加上的元素相同的話\n",
    "            pass\n",
    "        else:\n",
    "            all_diff_result.append(_flt_result[0, i])\n",
    "all_diff_result = np.array(all_diff_result, np.uint8)"
   ]
  },
  {
   "cell_type": "code",
   "execution_count": 9,
   "id": "8ff9ca39-f182-4a93-a3d1-f62a005c7d57",
   "metadata": {},
   "outputs": [
    {
     "data": {
      "text/plain": [
       "(285, 1, 3)"
      ]
     },
     "execution_count": 9,
     "metadata": {},
     "output_type": "execute_result"
    }
   ],
   "source": [
    "# 已經計算出不重複的，但是資料很細。\n",
    "all_diff_result = all_diff_result.reshape(-1,1,3)\n",
    "all_diff_result.shape"
   ]
  },
  {
   "cell_type": "code",
   "execution_count": 10,
   "id": "b9f9fb52-0af3-4329-be13-59bbb1a8b1ca",
   "metadata": {},
   "outputs": [],
   "source": [
    "#  加粗，注意是 指數次方增粗 (粗度倍率 = 2^thickness)\n",
    "thickness = 4\n",
    "for i in range(thickness):\n",
    "    all_diff_result = np.hstack((all_diff_result,all_diff_result))"
   ]
  },
  {
   "cell_type": "code",
   "execution_count": 11,
   "id": "cf286a7d-8a49-4d9b-8f4c-9ce550ba97f9",
   "metadata": {},
   "outputs": [
    {
     "data": {
      "text/plain": [
       "(285, 16, 3)"
      ]
     },
     "execution_count": 11,
     "metadata": {},
     "output_type": "execute_result"
    }
   ],
   "source": [
    "#應該會是細長的 RGB圖片\n",
    "all_diff_result.shape"
   ]
  },
  {
   "cell_type": "code",
   "execution_count": 12,
   "id": "3d63826c-445a-4b74-948d-120c608903b1",
   "metadata": {},
   "outputs": [
    {
     "data": {
      "text/plain": [
       "True"
      ]
     },
     "execution_count": 12,
     "metadata": {},
     "output_type": "execute_result"
    }
   ],
   "source": [
    "cv2.imwrite(\"Adobe_colorbar_nonRepeat.png\",all_diff_result)"
   ]
  },
  {
   "cell_type": "code",
   "execution_count": 31,
   "id": "d4a5fe4b-975e-4ba6-9e17-b69c976e65a3",
   "metadata": {},
   "outputs": [],
   "source": [
    "# 給別人用的\n",
    "all_diff_result_rgb = cv2.cvtColor(all_diff_result, cv2.COLOR_BGR2RGB)"
   ]
  },
  {
   "cell_type": "code",
   "execution_count": 32,
   "id": "46340096-c2eb-4088-8f5a-360400aa3c61",
   "metadata": {},
   "outputs": [
    {
     "data": {
      "text/plain": [
       "array([[  0,   0,   0],\n",
       "       [  1,   1,   2],\n",
       "       [  2,   1,   2],\n",
       "       [  2,   1,   3],\n",
       "       [  2,   2,   4],\n",
       "       [  3,   2,   4],\n",
       "       [  4,   3,   6],\n",
       "       [  5,   3,   7],\n",
       "       [  5,   4,   8],\n",
       "       [  6,   4,   8],\n",
       "       [  6,   4,   9],\n",
       "       [  6,   5,  10],\n",
       "       [  7,   5,  10],\n",
       "       [  7,   5,  11],\n",
       "       [  8,   5,  11],\n",
       "       [  8,   6,  12],\n",
       "       [  9,   6,  13],\n",
       "       [  9,   7,  14],\n",
       "       [ 10,   7,  14],\n",
       "       [ 10,   7,  15],\n",
       "       [ 10,   7,  16],\n",
       "       [ 11,   7,  16],\n",
       "       [ 11,   7,  17],\n",
       "       [ 11,   8,  17],\n",
       "       [ 11,   8,  18],\n",
       "       [ 12,   8,  18],\n",
       "       [ 12,   8,  19],\n",
       "       [ 12,   8,  20],\n",
       "       [ 13,   8,  20],\n",
       "       [ 13,   8,  21],\n",
       "       [ 13,   8,  22],\n",
       "       [ 14,   8,  22],\n",
       "       [ 14,   8,  23],\n",
       "       [ 15,   9,  24],\n",
       "       [ 15,   9,  25],\n",
       "       [ 16,   9,  26],\n",
       "       [ 16,   9,  27],\n",
       "       [ 17,   9,  28],\n",
       "       [ 17,   9,  29],\n",
       "       [ 18,   9,  30],\n",
       "       [ 18,   9,  31],\n",
       "       [ 18,   9,  32],\n",
       "       [ 19,   9,  32],\n",
       "       [ 19,   9,  33],\n",
       "       [ 20,   9,  34],\n",
       "       [ 20,   9,  35],\n",
       "       [ 21,   9,  36],\n",
       "       [ 21,   9,  37],\n",
       "       [ 22,   9,  38],\n",
       "       [ 22,   9,  39],\n",
       "       [ 23,   9,  39],\n",
       "       [ 23,   9,  40],\n",
       "       [ 23,   9,  41],\n",
       "       [ 24,   9,  41],\n",
       "       [ 24,   9,  42],\n",
       "       [ 25,   8,  43],\n",
       "       [ 25,   8,  44],\n",
       "       [ 25,   9,  43],\n",
       "       [ 26,   8,  45],\n",
       "       [ 26,   8,  46],\n",
       "       [ 27,   8,  46],\n",
       "       [ 27,   8,  47],\n",
       "       [ 27,   8,  48],\n",
       "       [ 28,   8,  48],\n",
       "       [ 28,   8,  49],\n",
       "       [ 29,   8,  50],\n",
       "       [ 29,   8,  51],\n",
       "       [ 30,   8,  51],\n",
       "       [ 30,   8,  52],\n",
       "       [ 31,   8,  53],\n",
       "       [ 32,   8,  54],\n",
       "       [ 32,   8,  55],\n",
       "       [ 33,   8,  56],\n",
       "       [ 34,   8,  57],\n",
       "       [ 35,   8,  58],\n",
       "       [ 35,   8,  59],\n",
       "       [ 36,   7,  60],\n",
       "       [ 37,   7,  60],\n",
       "       [ 37,   7,  61],\n",
       "       [ 38,   7,  62],\n",
       "       [ 39,   7,  63],\n",
       "       [ 40,   7,  64],\n",
       "       [ 41,   7,  65],\n",
       "       [ 42,   7,  66],\n",
       "       [ 43,   7,  67],\n",
       "       [ 44,   7,  68],\n",
       "       [ 45,   7,  69],\n",
       "       [ 46,   7,  70],\n",
       "       [ 47,   7,  71],\n",
       "       [ 48,   7,  72],\n",
       "       [ 49,   8,  72],\n",
       "       [ 50,   8,  73],\n",
       "       [ 51,   8,  74],\n",
       "       [ 51,   8,  75],\n",
       "       [ 52,   8,  75],\n",
       "       [ 53,   8,  76],\n",
       "       [ 54,   8,  77],\n",
       "       [ 55,   8,  77],\n",
       "       [ 56,   8,  78],\n",
       "       [ 57,   8,  79],\n",
       "       [ 58,   9,  80],\n",
       "       [ 59,   9,  80],\n",
       "       [ 60,   9,  81],\n",
       "       [ 62,   9,  82],\n",
       "       [ 63,   9,  82],\n",
       "       [ 64,   9,  83],\n",
       "       [ 65,  10,  83],\n",
       "       [ 66,  10,  84],\n",
       "       [ 67,  10,  85],\n",
       "       [ 68,  10,  85],\n",
       "       [ 69,  11,  86],\n",
       "       [ 71,  11,  87],\n",
       "       [ 73,  12,  88],\n",
       "       [ 74,  12,  88],\n",
       "       [ 76,  12,  89],\n",
       "       [ 77,  13,  89],\n",
       "       [ 78,  13,  90],\n",
       "       [ 79,  13,  90],\n",
       "       [ 81,  14,  91],\n",
       "       [ 82,  14,  91],\n",
       "       [ 83,  14,  92],\n",
       "       [ 85,  15,  92],\n",
       "       [ 86,  15,  93],\n",
       "       [ 87,  16,  93],\n",
       "       [ 89,  16,  94],\n",
       "       [ 90,  17,  94],\n",
       "       [ 92,  17,  95],\n",
       "       [ 93,  18,  95],\n",
       "       [ 94,  18,  96],\n",
       "       [ 96,  19,  96],\n",
       "       [ 97,  19,  96],\n",
       "       [100,  18,  97],\n",
       "       [101,  18,  97],\n",
       "       [102,  17,  97],\n",
       "       [103,  17,  97],\n",
       "       [105,  17,  97],\n",
       "       [106,  16,  97],\n",
       "       [108,  16,  97],\n",
       "       [109,  16,  97],\n",
       "       [110,  15,  97],\n",
       "       [112,  15,  97],\n",
       "       [113,  14,  97],\n",
       "       [114,  14,  97],\n",
       "       [116,  14,  97],\n",
       "       [117,  13,  96],\n",
       "       [119,  13,  96],\n",
       "       [120,  12,  96],\n",
       "       [123,  11,  95],\n",
       "       [126,  10,  95],\n",
       "       [128,  10,  94],\n",
       "       [129,   9,  94],\n",
       "       [131,   9,  93],\n",
       "       [132,   8,  93],\n",
       "       [134,   8,  92],\n",
       "       [136,   7,  92],\n",
       "       [137,   7,  91],\n",
       "       [142,   5,  89],\n",
       "       [144,   5,  88],\n",
       "       [145,   4,  88],\n",
       "       [147,   4,  87],\n",
       "       [150,   2,  85],\n",
       "       [152,   2,  84],\n",
       "       [154,   1,  83],\n",
       "       [155,   1,  82],\n",
       "       [157,   0,  81],\n",
       "       [159,   0,  80],\n",
       "       [160,   0,  79],\n",
       "       [161,   0,  78],\n",
       "       [162,   0,  77],\n",
       "       [163,   0,  76],\n",
       "       [164,   0,  75],\n",
       "       [168,   0,  71],\n",
       "       [172,   0,  66],\n",
       "       [175,   0,  64],\n",
       "       [177,   0,  61],\n",
       "       [179,   0,  58],\n",
       "       [180,   0,  57],\n",
       "       [182,   0,  55],\n",
       "       [184,   0,  53],\n",
       "       [185,   0,  51],\n",
       "       [188,   0,  48],\n",
       "       [191,   0,  44],\n",
       "       [194,   0,  41],\n",
       "       [195,   0,  39],\n",
       "       [197,   0,  36],\n",
       "       [201,   0,  31],\n",
       "       [205,   0,  25],\n",
       "       [210,   0,  18],\n",
       "       [211,   0,  16],\n",
       "       [217,   0,   7],\n",
       "       [218,   0,   5],\n",
       "       [222,   1,   0],\n",
       "       [223,   3,   0],\n",
       "       [227,  10,   0],\n",
       "       [230,  15,   0],\n",
       "       [232,  19,   0],\n",
       "       [236,  26,   0],\n",
       "       [238,  29,   0],\n",
       "       [239,  31,   0],\n",
       "       [243,  38,   0],\n",
       "       [245,  40,   0],\n",
       "       [247,  45,   0],\n",
       "       [249,  48,   0],\n",
       "       [250,  50,   0],\n",
       "       [252,  52,   0],\n",
       "       [254,  57,   0],\n",
       "       [255,  61,   1],\n",
       "       [255,  67,   4],\n",
       "       [255,  70,   5],\n",
       "       [255,  73,   7],\n",
       "       [255,  79,   9],\n",
       "       [255,  85,  12],\n",
       "       [255,  91,  15],\n",
       "       [255,  94,  17],\n",
       "       [255, 100,  20],\n",
       "       [255, 105,  22],\n",
       "       [255, 108,  24],\n",
       "       [255, 111,  25],\n",
       "       [255, 114,  27],\n",
       "       [255, 116,  28],\n",
       "       [255, 119,  30],\n",
       "       [255, 122,  31],\n",
       "       [255, 124,  33],\n",
       "       [255, 127,  34],\n",
       "       [255, 129,  36],\n",
       "       [255, 132,  37],\n",
       "       [255, 134,  39],\n",
       "       [255, 139,  42],\n",
       "       [255, 144,  45],\n",
       "       [255, 146,  47],\n",
       "       [255, 151,  50],\n",
       "       [255, 156,  53],\n",
       "       [255, 158,  54],\n",
       "       [255, 160,  56],\n",
       "       [255, 162,  57],\n",
       "       [255, 164,  59],\n",
       "       [255, 167,  60],\n",
       "       [255, 169,  62],\n",
       "       [255, 171,  64],\n",
       "       [255, 173,  65],\n",
       "       [255, 175,  67],\n",
       "       [255, 179,  70],\n",
       "       [255, 183,  73],\n",
       "       [255, 184,  75],\n",
       "       [255, 186,  76],\n",
       "       [255, 190,  80],\n",
       "       [255, 193,  83],\n",
       "       [255, 195,  84],\n",
       "       [255, 197,  86],\n",
       "       [255, 199,  88],\n",
       "       [255, 202,  91],\n",
       "       [255, 205,  94],\n",
       "       [255, 206,  93],\n",
       "       [255, 207,  93],\n",
       "       [255, 208,  93],\n",
       "       [254, 210,  93],\n",
       "       [255, 211,  93],\n",
       "       [255, 213,  92],\n",
       "       [255, 214,  92],\n",
       "       [255, 215,  92],\n",
       "       [254, 216,  92],\n",
       "       [255, 217,  92],\n",
       "       [255, 218,  92],\n",
       "       [255, 219,  92],\n",
       "       [255, 220,  92],\n",
       "       [254, 221,  92],\n",
       "       [254, 222,  91],\n",
       "       [255, 223,  91],\n",
       "       [255, 224,  91],\n",
       "       [255, 225,  91],\n",
       "       [255, 226,  91],\n",
       "       [255, 227,  91],\n",
       "       [255, 228,  91],\n",
       "       [254, 229,  91],\n",
       "       [255, 230,  91],\n",
       "       [255, 231,  91],\n",
       "       [255, 232,  91],\n",
       "       [255, 233,  91],\n",
       "       [255, 234,  91],\n",
       "       [255, 235,  91],\n",
       "       [255, 236,  91],\n",
       "       [255, 237,  91],\n",
       "       [254, 238,  91],\n",
       "       [254, 239,  91],\n",
       "       [255, 240,  91]], dtype=uint8)"
      ]
     },
     "execution_count": 32,
     "metadata": {},
     "output_type": "execute_result"
    }
   ],
   "source": [
    "all_diff_result_rgb[::,1]"
   ]
  },
  {
   "cell_type": "code",
   "execution_count": null,
   "id": "71a0934c-7896-4829-990e-dfa8353b393c",
   "metadata": {},
   "outputs": [],
   "source": []
  }
 ],
 "metadata": {
  "kernelspec": {
   "display_name": "Python 3 (ipykernel)",
   "language": "python",
   "name": "python3"
  },
  "language_info": {
   "codemirror_mode": {
    "name": "ipython",
    "version": 3
   },
   "file_extension": ".py",
   "mimetype": "text/x-python",
   "name": "python",
   "nbconvert_exporter": "python",
   "pygments_lexer": "ipython3",
   "version": "3.8.12"
  }
 },
 "nbformat": 4,
 "nbformat_minor": 5
}
