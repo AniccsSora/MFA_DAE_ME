{
 "cells": [
  {
   "cell_type": "code",
   "execution_count": 1,
   "id": "c89badf9-fc01-4fb7-a349-d1ecc5c6fdbb",
   "metadata": {},
   "outputs": [],
   "source": [
    "import numpy as np\n",
    "import cv2\n",
    "import matplotlib.pyplot as plt\n",
    "from PIL import Image\n",
    "import os"
   ]
  },
  {
   "cell_type": "code",
   "execution_count": 2,
   "id": "d852e5af-4406-49ae-887f-2097484f41f6",
   "metadata": {},
   "outputs": [],
   "source": [
    "# 讀入一張要判斷色階的圖片 (colorbar)\n",
    "raw = cv2.imread(\"Adobe_colorbar_non_Sort.png\", cv2.IMREAD_COLOR)\n",
    "res = np.zeros(shape=raw.shape, dtype=raw.dtype)\n",
    "\n",
    "# 拆 BGR 通道\n",
    "B, G, R = raw[::,::,0],raw[::,::,1],raw[::,::,2]\n",
    "# 計算亮度是用浮點數\n",
    "B,G,R = B/255., G/255., R/255.\n",
    "# 公式參照 : HSP Color Model — Alternative to HSV (HSB) and HSL\n",
    "# url: https://alienryderflex.com/hsp.html\n",
    "L = np.sqrt( 0.299*R**2 + 0.587*G**2 + 0.114*B**2)  # 計算感知亮度公式\n",
    "\n",
    "_flt_L_idx = np.argsort(L.reshape(-1))  # 算好排序過的 IDX\n",
    "_flt_raw = raw.reshape((1,-1,3))  # 統一展平\n",
    "_flt_res = res.reshape((1,-1,3))  # 統一展平"
   ]
  },
  {
   "cell_type": "code",
   "execution_count": 3,
   "id": "88ae2aa5-1c84-4be2-932f-d2f8eb09d69a",
   "metadata": {},
   "outputs": [
    {
     "data": {
      "image/png": "[encoded data removed]",
      "text/plain": [
       "<Figure size 432x288 with 1 Axes>"
      ]
     },
     "metadata": {
      "needs_background": "light"
     },
     "output_type": "display_data"
    }
   ],
   "source": [
    "# 尚未排序的\n",
    "plt.imshow(raw);\n",
    "plt.show()"
   ]
  },
  {
   "cell_type": "code",
   "execution_count": 4,
   "id": "1072107a-c72d-4ed4-b5df-5fe2300b7dc3",
   "metadata": {},
   "outputs": [],
   "source": [
    "# 排序好的 IDX 跟 走訪用的不要搞混。。。\n",
    "for i,sort_idx in enumerate(_flt_L_idx):\n",
    "    _flt_res[0][i] = _flt_raw[0, sort_idx]"
   ]
  },
  {
   "cell_type": "code",
   "execution_count": 5,
   "id": "ca747aa6-8454-40fd-a40e-15dc63231e15",
   "metadata": {},
   "outputs": [],
   "source": [
    "_flt_result = _flt_res.copy()  # 後續計算不重複色階用\n",
    "_flt_res = _flt_res.reshape(raw.shape)  # 展示排序結果用，注意是1D排好，畫2D顯示，所以亮度會呈現斜斜的"
   ]
  },
  {
   "cell_type": "code",
   "execution_count": 6,
   "id": "91cfa176-8a58-4392-9b72-b12ebccc0c97",
   "metadata": {},
   "outputs": [
    {
     "data": {
      "image/png": "[encoded data removed]",
      "text/plain": [
       "<Figure size 432x288 with 1 Axes>"
      ]
     },
     "metadata": {
      "needs_background": "light"
     },
     "output_type": "display_data"
    }
   ],
   "source": [
    "# 呈現排好的 2D\n",
    "plt.imshow(_flt_res);"
   ]
  },
  {
   "cell_type": "code",
   "execution_count": 7,
   "id": "8ba7af05-6fcb-4a4b-9869-b4558316320d",
   "metadata": {},
   "outputs": [
    {
     "data": {
      "text/plain": [
       "True"
      ]
     },
     "execution_count": 7,
     "metadata": {},
     "output_type": "execute_result"
    }
   ],
   "source": [
    "# 儲存\n",
    "cv2.imwrite(\"Adobe_colorbar_2d_Sorted.png\", _flt_res)"
   ]
  },
  {
   "cell_type": "code",
   "execution_count": 8,
   "id": "5f34c59b-2ae0-44a4-8149-d598297063b5",
   "metadata": {},
   "outputs": [],
   "source": [
    "# 接下來計算 不重複元素構成的 colorbar\n",
    "all_diff_result = []\n",
    "\n",
    "# _flt_result.shape = (1, 5202, 3)\n",
    "for i in range(_flt_result.shape[1]):\n",
    "    if len(all_diff_result) == 0:\n",
    "        all_diff_result.append(_flt_result[0, i])\n",
    "    \n",
    "    else:\n",
    "        if np.all(all_diff_result[-1] == _flt_result[0, i]): # 上一個元素跟這次要加上的元素相同的話\n",
    "            pass\n",
    "        else:\n",
    "            all_diff_result.append(_flt_result[0, i])\n",
    "all_diff_result = np.array(all_diff_result, np.uint8)"
   ]
  },
  {
   "cell_type": "code",
   "execution_count": 9,
   "id": "8ff9ca39-f182-4a93-a3d1-f62a005c7d57",
   "metadata": {},
   "outputs": [
    {
     "data": {
      "text/plain": [
       "(285, 1, 3)"
      ]
     },
     "execution_count": 9,
     "metadata": {},
     "output_type": "execute_result"
    }
   ],
   "source": [
    "# 已經計算出不重複的，但是資料很細。\n",
    "all_diff_result = all_diff_result.reshape(-1,1,3)\n",
    "all_diff_result.shape"
   ]
  },
  {
   "cell_type": "code",
   "execution_count": 10,
   "id": "b9f9fb52-0af3-4329-be13-59bbb1a8b1ca",
   "metadata": {},
   "outputs": [],
   "source": [
    "#  加粗，注意是 指數次方增粗 (粗度倍率 = 2^thickness)\n",
    "thickness = 4\n",
    "for i in range(thickness):\n",
    "    all_diff_result = np.hstack((all_diff_result,all_diff_result))"
   ]
  },
  {
   "cell_type": "code",
   "execution_count": 11,
   "id": "cf286a7d-8a49-4d9b-8f4c-9ce550ba97f9",
   "metadata": {},
   "outputs": [
    {
     "data": {
      "text/plain": [
       "(285, 16, 3)"
      ]
     },
     "execution_count": 11,
     "metadata": {},
     "output_type": "execute_result"
    }
   ],
   "source": [
    "#應該會是細長的 RGB圖片\n",
    "all_diff_result.shape"
   ]
  },
  {
   "cell_type": "code",
   "execution_count": 12,
   "id": "3d63826c-445a-4b74-948d-120c608903b1",
   "metadata": {},
   "outputs": [
    {
     "data": {
      "text/plain": [
       "True"
      ]
     },
     "execution_count": 12,
     "metadata": {},
     "output_type": "execute_result"
    }
   ],
   "source": [
    "cv2.imwrite(\"Adobe_colorbar_nonRepeat.png\",all_diff_result)"
   ]
  },
  {
   "cell_type": "code",
   "execution_count": null,
   "id": "46340096-c2eb-4088-8f5a-360400aa3c61",
   "metadata": {},
   "outputs": [],
   "source": []
  }
 ],
 "metadata": {
  "kernelspec": {
   "display_name": "Python 3 (ipykernel)",
   "language": "python",
   "name": "python3"
  },
  "language_info": {
   "codemirror_mode": {
    "name": "ipython",
    "version": 3
   },
   "file_extension": ".py",
   "mimetype": "text/x-python",
   "name": "python",
   "nbconvert_exporter": "python",
   "pygments_lexer": "ipython3",
   "version": "3.8.12"
  }
 },
 "nbformat": 4,
 "nbformat_minor": 5
}
