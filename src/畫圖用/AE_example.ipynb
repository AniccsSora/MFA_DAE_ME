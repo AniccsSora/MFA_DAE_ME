{
 "cells": [
  {
   "cell_type": "code",
   "execution_count": 3,
   "id": "daa15910-23f6-4acb-8f60-aec4ae0ab6f4",
   "metadata": {},
   "outputs": [],
   "source": [
    "import torch\n",
    "import torchvision\n",
    "import matplotlib.pyplot as plt\n",
    "from torchvision import datasets\n",
    "from torchvision import transforms\n",
    "import numpy as np "
   ]
  },
  {
   "cell_type": "code",
   "execution_count": 2,
   "id": "db5c86e4-d993-47a6-9091-da5ce2f97056",
   "metadata": {},
   "outputs": [],
   "source": [
    "mnist_dataset = torchvision.datasets.MNIST('./minst', train = True, download=False)"
   ]
  },
  {
   "cell_type": "code",
   "execution_count": 3,
   "id": "a1b6f4a3-8579-4ae7-82a1-2976240954a7",
   "metadata": {},
   "outputs": [],
   "source": [
    "if False:\n",
    "    it = iter(mnist_dataset)\n",
    "    img, label = next(it)\n",
    "    plt.imshow(img);\n",
    "    plt.show();"
   ]
  },
  {
   "cell_type": "code",
   "execution_count": 4,
   "id": "b61759cc-52a6-4839-9dec-c96dfd94c58a",
   "metadata": {},
   "outputs": [
    {
     "name": "stdout",
     "output_type": "stream",
     "text": [
      "cuda\n"
     ]
    }
   ],
   "source": [
    "tensor_transform = transforms.ToTensor()\n",
    "\n",
    "dataset = datasets.MNIST(root = \"./minst\",\n",
    "                         train = True, download = False,\n",
    "                         transform = tensor_transform)\n",
    "\n",
    "loader = torch.utils.data.DataLoader(dataset = dataset,\n",
    "                                     batch_size = 32,  # 10GB = 5120,,\n",
    "                                     shuffle = True)\n",
    "\n",
    "device = 'cuda' if torch.cuda.is_available() else 'cpu'\n",
    "print(device)"
   ]
  },
  {
   "cell_type": "code",
   "execution_count": 5,
   "id": "8f7ed9ee-1f19-4c2c-aecd-4d5ebef3dd13",
   "metadata": {},
   "outputs": [
    {
     "data": {
      "image/png": "[encoded data removed]",
      "text/plain": [
       "<Figure size 432x288 with 9 Axes>"
      ]
     },
     "metadata": {
      "needs_background": "light"
     },
     "output_type": "display_data"
    }
   ],
   "source": [
    "rows, cols = 3, 3\n",
    "fig, axs = plt.subplots(rows, cols)\n",
    "for idx in range(rows*cols):\n",
    "    row = int(idx/cols)\n",
    "    col = int(idx%cols)\n",
    "    \n",
    "    img = dataset[idx][0]*255\n",
    "    img = img.reshape(28,28).int()\n",
    "    \n",
    "    axs[row, col].imshow(img)\n",
    "    axs[row, col].axis('off')\n",
    "    axs[row, col].set_title(str(dataset[idx][1]))\n",
    "    #axs[row, col].suptitle(str(dataset[idx][1]))\n",
    "    \n",
    "    plt.tight_layout()\n",
    "plt.show()"
   ]
  },
  {
   "cell_type": "code",
   "execution_count": 6,
   "id": "93580185-7450-452b-b8f9-38d3fb74f172",
   "metadata": {},
   "outputs": [],
   "source": [
    "class Encoder(torch.nn.Module):\n",
    "    def __init__(self):\n",
    "        super().__init__()\n",
    "        self.conv1 = torch.nn.Conv2d(1, 32, (3, 3), padding=1)\n",
    "        self.act_1 = torch.nn.ReLU()\n",
    "        self.conv2 = torch.nn.Conv2d(32, 16, (3, 3), padding=1)\n",
    "        self.act_2 = torch.nn.ReLU()\n",
    "        self.conv3 = torch.nn.Conv2d(16, 8, (3, 3), padding=1)\n",
    "        self.act_3 = torch.nn.ReLU()\n",
    "        \n",
    "    def forward(self, x):\n",
    "        x = self.conv1(x)\n",
    "        x = self.act_1(x)\n",
    "        x = self.conv2(x)\n",
    "        x = self.act_2(x)\n",
    "        x = self.conv3(x)\n",
    "        x = self.act_3(x)\n",
    "        # x.shape[0] : 批次數\n",
    "        x = torch.reshape(x, (x.shape[0], -1))\n",
    "        return x\n",
    "    \n",
    "class Decoder(torch.nn.Module):\n",
    "    def __init__(self):\n",
    "        super().__init__()\n",
    "        self.dconv1 = torch.nn.ConvTranspose2d(8,16, (3,3), padding=1)\n",
    "        self.act_1 = torch.nn.ReLU()\n",
    "        self.dconv2 = torch.nn.ConvTranspose2d(16,32, (3,3), padding=1)\n",
    "        self.act_2 = torch.nn.ReLU()\n",
    "        self.dconv3 = torch.nn.ConvTranspose2d(32, 1, (3,3), padding=1)\n",
    "        self.act_3 = torch.nn.ReLU()\n",
    "        \n",
    "    def forward(self, x):\n",
    "        # (batch, 8=根據Encoder的最後一層 Conv depth, , )\n",
    "        x = torch.reshape(x, (-1, 8, 28, 28))\n",
    "        \n",
    "        x = self.dconv1(x)\n",
    "        x = self.act_1(x)\n",
    "        x = self.dconv2(x)\n",
    "        x = self.act_2(x)\n",
    "        x = self.dconv3(x)\n",
    "        x = self.act_3(x)\n",
    "        \n",
    "        return x\n",
    "\n",
    "\n",
    "class NAE(torch.nn.Module):\n",
    "    def __init__(self):\n",
    "        super().__init__()\n",
    "        self.encoder = Encoder()\n",
    "        self.decoder = Decoder()\n",
    "    \n",
    "    def forward(self, x):\n",
    "        x = self.encoder(x)\n",
    "        x = self.decoder(x)\n",
    "        \n",
    "        return x\n"
   ]
  },
  {
   "cell_type": "code",
   "execution_count": 7,
   "id": "159305fb-0f78-4e15-b7cd-bfa5005d6dce",
   "metadata": {},
   "outputs": [
    {
     "name": "stdout",
     "output_type": "stream",
     "text": [
      "torch.Size([1, 6272])\n",
      "torch.Size([1, 1, 28, 28])\n"
     ]
    },
    {
     "data": {
      "text/plain": [
       "torch.Size([1, 1, 28, 28])"
      ]
     },
     "execution_count": 7,
     "metadata": {},
     "output_type": "execute_result"
    }
   ],
   "source": [
    "# test unit 可以做動\n",
    "hi_encoder = Encoder()\n",
    "\n",
    "out = hi_encoder(torch.randn((1, 1, 28, 28)))\n",
    "print(out.shape)\n",
    "\n",
    "hi_decoder = Decoder()\n",
    "\n",
    "oout = hi_decoder(out)\n",
    "print(oout.shape)\n",
    "\n",
    "hi_autoencoder = NAE()\n",
    "\n",
    "hi_out = hi_autoencoder(torch.randn((1, 1, 28, 28)))\n",
    "hi_out.shape\n"
   ]
  },
  {
   "cell_type": "code",
   "execution_count": 8,
   "id": "fb13a3b9-845d-4cdc-9a1b-1309c64ca240",
   "metadata": {},
   "outputs": [],
   "source": [
    "model = NAE()\n",
    "model.cuda()\n",
    "  \n",
    "# Validation using MSE Loss function\n",
    "loss_function = torch.nn.MSELoss()\n",
    "  \n",
    "# Using an Adam Optimizer with lr = 0.1\n",
    "optimizer = torch.optim.Adam(model.parameters(),\n",
    "                             lr = 1e-4,\n",
    "                             weight_decay = 1e-8)"
   ]
  },
  {
   "cell_type": "code",
   "execution_count": 9,
   "id": "69c5fad9-6225-41d6-a97a-4cd3edb40799",
   "metadata": {},
   "outputs": [],
   "source": [
    "fake_batch = torch.randn((1,1,28,28), device=device)\n",
    "#model(fake_batch)"
   ]
  },
  {
   "cell_type": "code",
   "execution_count": 10,
   "id": "ea723f21-21f5-493a-bbe6-ab04995fc386",
   "metadata": {},
   "outputs": [
    {
     "name": "stderr",
     "output_type": "stream",
     "text": [
      "C:\\Users\\lab87\\AppData\\Local\\Temp/ipykernel_2124/3237091686.py:10: UserWarning: To copy construct from a tensor, it is recommended to use sourceTensor.clone().detach() or sourceTensor.clone().detach().requires_grad_(True), rather than torch.tensor(sourceTensor).\n",
      "  image = torch.tensor(image, device=device)\n"
     ]
    },
    {
     "data": {
      "text/plain": [
       "[<matplotlib.lines.Line2D at 0x1be3c64aa00>]"
      ]
     },
     "execution_count": 10,
     "metadata": {},
     "output_type": "execute_result"
    },
    {
     "data": {
      "image/png": "[encoded data removed]",
      "text/plain": [
       "<Figure size 432x288 with 1 Axes>"
      ]
     },
     "metadata": {},
     "output_type": "display_data"
    }
   ],
   "source": [
    "epochs = 20\n",
    "outputs = []\n",
    "losses = []\n",
    "for epoch in range(epochs):\n",
    "    for (image, _) in loader:\n",
    "        # Reshaping the image to (-1, 784) , for fully connected bulid,\n",
    "        # Reshaping the image to (-1(batch size), channel, rows(h), cols(w)) , for CNN bulid.\n",
    "        image = image.reshape(-1, 1, 28, 28)\n",
    "        image = image * 255\n",
    "        image = torch.tensor(image, device=device)\n",
    "        # Output of Autoencoder\n",
    "        reconstructed = model(image)\n",
    "        # Calculating the loss function\n",
    "        loss = loss_function(reconstructed, image)\n",
    "        # The gradients are set to zero,\n",
    "        # the the gradient is computed and stored.\n",
    "        # .step() performs parameter update\n",
    "        optimizer.zero_grad()\n",
    "        loss.backward()\n",
    "        optimizer.step()\n",
    "\n",
    "        # Storing the losses in a list for plotting\n",
    "        losses.append(loss.detach().cpu().numpy())\n",
    "    outputs.append((epochs, image, reconstructed))\n",
    "  \n",
    "# Defining the Plot Style\n",
    "plt.style.use('fivethirtyeight')\n",
    "plt.xlabel('Iterations')\n",
    "plt.ylabel('Loss')\n",
    "  \n",
    "# Plotting the last 100 values\n",
    "plt.plot(losses[-100:])"
   ]
  },
  {
   "cell_type": "code",
   "execution_count": 25,
   "id": "468c1665-1672-4598-8bbc-9b7ec4510669",
   "metadata": {},
   "outputs": [
    {
     "data": {
      "image/png": "[encoded data removed]",
      "text/plain": [
       "<Figure size 432x288 with 1 Axes>"
      ]
     },
     "metadata": {},
     "output_type": "display_data"
    }
   ],
   "source": [
    "for i, item in enumerate(image):\n",
    "    \n",
    "    # Reshape the array for plotting\n",
    "    item = item.reshape(-1, 28, 28).detach().cpu().numpy()\n",
    "    plt.axis('off')\n",
    "    plt.imshow(item[0])\n",
    "    plt.show()\n",
    "    break"
   ]
  },
  {
   "cell_type": "code",
   "execution_count": 23,
   "id": "d78c165f-c370-41d6-b557-e69b00cd119f",
   "metadata": {},
   "outputs": [
    {
     "data": {
      "image/png": "[encoded data removed]",
      "text/plain": [
       "<Figure size 432x288 with 1 Axes>"
      ]
     },
     "metadata": {},
     "output_type": "display_data"
    },
    {
     "name": "stdout",
     "output_type": "stream",
     "text": [
      "18552.023\n"
     ]
    }
   ],
   "source": [
    "for i, item in enumerate(reconstructed):\n",
    "    \n",
    "    rebuild = model(item[0].reshape(-1,1,28,28))\n",
    "    rebuild = rebuild.reshape(-1,28,28).detach().cpu().numpy()\n",
    "    plt.axis('off')\n",
    "    plt.imshow(rebuild[0])\n",
    "    plt.show()\n",
    "    \n",
    "    print(rebuild.sum())\n",
    "    break"
   ]
  },
  {
   "cell_type": "code",
   "execution_count": 13,
   "id": "34210b70-fa04-40a4-b0c8-c8d238bf9c7b",
   "metadata": {},
   "outputs": [],
   "source": [
    "encoder = model.encoder\n",
    "decoder = model.decoder"
   ]
  },
  {
   "cell_type": "code",
   "execution_count": 45,
   "id": "8e62b83c-7fbc-4476-b06a-bf3251cec269",
   "metadata": {},
   "outputs": [
    {
     "data": {
      "image/png": "[encoded data removed]",
      "text/plain": [
       "<Figure size 432x288 with 2 Axes>"
      ]
     },
     "metadata": {},
     "output_type": "display_data"
    },
    {
     "data": {
      "text/plain": [
       "6272"
      ]
     },
     "execution_count": 45,
     "metadata": {},
     "output_type": "execute_result"
    }
   ],
   "source": [
    "eo = encoder(image[0].reshape(-1,1,28,28))\n",
    "\n",
    "reo = eo.reshape(2,56,56).detach().cpu().numpy()\n",
    "\n",
    "fig, ax = plt.subplots(1,2)\n",
    "ax[0].imshow(reo[0])\n",
    "ax[1].imshow(reo[1])\n",
    "\n",
    "plt.show()\n",
    "2*56*56"
   ]
  },
  {
   "cell_type": "code",
   "execution_count": 69,
   "id": "036ea29a-10fd-4602-96b9-5121b4aa4d6f",
   "metadata": {},
   "outputs": [
    {
     "data": {
      "image/png": "[encoded data removed]",
      "text/plain": [
       "<Figure size 640x480 with 1 Axes>"
      ]
     },
     "metadata": {},
     "output_type": "display_data"
    },
    {
     "data": {
      "text/plain": [
       "(7, 16, 16)"
      ]
     },
     "execution_count": 69,
     "metadata": {},
     "output_type": "execute_result"
    }
   ],
   "source": [
    "plt.style.use('default')\n",
    "vi = np.clip(reo, 0,255)\n",
    "vi2 = vi[vi>10]\n",
    "vi2 = vi2.reshape(7,16,16)\n",
    "plt.axis('off')\n",
    "plt.imshow(vi2[0])\n",
    "\n",
    "plt.show()\n",
    "vi2.shape"
   ]
  },
  {
   "cell_type": "code",
   "execution_count": 42,
   "id": "3987f022-8282-49dc-915c-5e0e099045c5",
   "metadata": {},
   "outputs": [
    {
     "data": {
      "image/png": "[encoded data removed]",
      "text/plain": [
       "<Figure size 432x288 with 1 Axes>"
      ]
     },
     "metadata": {},
     "output_type": "display_data"
    },
    {
     "data": {
      "text/plain": [
       "784"
      ]
     },
     "execution_count": 42,
     "metadata": {},
     "output_type": "execute_result"
    }
   ],
   "source": [
    "plt.imshow(decoder(eo).reshape(28,28).detach().cpu().numpy())\n",
    "plt.show()\n",
    "28*28"
   ]
  },
  {
   "cell_type": "code",
   "execution_count": 16,
   "id": "6248ea4a-6d1c-43f0-979f-63f444854a9c",
   "metadata": {},
   "outputs": [
    {
     "data": {
      "image/png": "[encoded data removed]",
      "text/plain": [
       "<Figure size 432x288 with 1 Axes>"
      ]
     },
     "metadata": {},
     "output_type": "display_data"
    }
   ],
   "source": [
    "plt.imshow(image[0].detach().cpu().numpy().reshape(28,28))\n",
    "plt.show()"
   ]
  },
  {
   "cell_type": "code",
   "execution_count": 35,
   "id": "7cfbef02-8fe9-440f-9a92-8471b6abd805",
   "metadata": {},
   "outputs": [
    {
     "data": {
      "image/png": "[encoded data removed]",
      "text/plain": [
       "<Figure size 432x288 with 1 Axes>"
      ]
     },
     "metadata": {
      "needs_background": "light"
     },
     "output_type": "display_data"
    }
   ],
   "source": [
    "from scipy.stats import norm\n",
    "from scipy.special import softmax\n",
    "x_axis = np.arange(0, 101, 1)\n",
    "# Mean = 0, SD = 2.\n",
    "plt.plot(x_axis, norm.pdf(x_axis, loc=50, scale=50))\n",
    "plt.xlim(0,100)\n",
    "plt.ylim(0,1)\n",
    "plt.show()"
   ]
  },
  {
   "cell_type": "code",
   "execution_count": 33,
   "id": "5a4b7c74-6dde-4979-8208-8a6ffd414c9b",
   "metadata": {},
   "outputs": [
    {
     "data": {
      "text/plain": [
       "0.004839414490382867"
      ]
     },
     "execution_count": 33,
     "metadata": {},
     "output_type": "execute_result"
    }
   ],
   "source": [
    "norm.pdf(x_axis, loc=50, scale=50)[0]"
   ]
  },
  {
   "cell_type": "code",
   "execution_count": 36,
   "id": "d95dea37-4a64-47e4-97e0-28fa14e2db33",
   "metadata": {},
   "outputs": [
    {
     "data": {
      "text/plain": [
       "array([0.33327202, 0.333476  , 0.33325198])"
      ]
     },
     "execution_count": 36,
     "metadata": {},
     "output_type": "execute_result"
    }
   ],
   "source": [
    "a = [norm.pdf(x_axis, loc=50, scale=50)[30],\n",
    "    norm.pdf(x_axis, loc=50, scale=50)[51],\n",
    "    norm.pdf(x_axis, loc=50, scale=50)[-30]]\n",
    "softmax(a)"
   ]
  },
  {
   "cell_type": "code",
   "execution_count": 32,
   "id": "60621ee4-5dd6-4ac1-9475-053712f2d9a4",
   "metadata": {},
   "outputs": [
    {
     "data": {
      "text/plain": [
       "0.007977249998473322"
      ]
     },
     "execution_count": 32,
     "metadata": {},
     "output_type": "execute_result"
    }
   ],
   "source": [
    "norm.pdf(x_axis, loc=50, scale=50)[51]"
   ]
  },
  {
   "cell_type": "code",
   "execution_count": 45,
   "id": "2ce82508-479b-4faf-8ec6-76dd2f88362e",
   "metadata": {},
   "outputs": [
    {
     "data": {
      "text/plain": [
       "<matplotlib.legend.Legend at 0x23ee0bfb040>"
      ]
     },
     "execution_count": 45,
     "metadata": {},
     "output_type": "execute_result"
    },
    {
     "data": {
      "image/png": "[encoded data removed]",
      "text/plain": [
       "<Figure size 432x288 with 1 Axes>"
      ]
     },
     "metadata": {
      "needs_background": "light"
     },
     "output_type": "display_data"
    }
   ],
   "source": [
    "x = np.linspace(norm.ppf(0.01),\n",
    "                norm.ppf(0.99), 100)\n",
    "plt.plot(x, norm.pdf(x),\n",
    "       'r-', lw=5, alpha=0.6, label='norm pdf')\n",
    "plt.legend(loc='best', frameon=False)"
   ]
  },
  {
   "cell_type": "code",
   "execution_count": 73,
   "id": "2a958ddb-0e5c-4356-a73d-dee44c627920",
   "metadata": {},
   "outputs": [
    {
     "name": "stdout",
     "output_type": "stream",
     "text": [
      "[0.  0.5 1.  0.5 0. ]\n"
     ]
    },
    {
     "data": {
      "image/png": "[encoded data removed]",
      "text/plain": [
       "<Figure size 432x288 with 1 Axes>"
      ]
     },
     "metadata": {
      "needs_background": "light"
     },
     "output_type": "display_data"
    }
   ],
   "source": [
    "import scipy\n",
    "\n",
    "win = scipy.signal.windows.get_window('hann', 5, fftbins=False)\n",
    "print(win)\n",
    "plt.plot(win);"
   ]
  },
  {
   "cell_type": "code",
   "execution_count": 79,
   "id": "b3670f1c-ee4e-42cb-9479-119618314a6e",
   "metadata": {},
   "outputs": [
    {
     "data": {
      "image/png": "[encoded data removed]",
      "text/plain": [
       "<Figure size 432x288 with 1 Axes>"
      ]
     },
     "metadata": {
      "needs_background": "light"
     },
     "output_type": "display_data"
    }
   ],
   "source": [
    "plt.plot(scipy.special.softmax(win));"
   ]
  },
  {
   "cell_type": "code",
   "execution_count": 92,
   "id": "573b5699-d6bb-463c-b10e-3cc071bfeb7f",
   "metadata": {},
   "outputs": [],
   "source": [
    "def get_filter_weight(odd):\n",
    "    assert odd%2==1\n",
    "    win = scipy.signal.windows.get_window('hann', odd+2, fftbins=False)\n",
    "    return scipy.special.softmax(win[1:-1])"
   ]
  },
  {
   "cell_type": "code",
   "execution_count": null,
   "id": "55f4869c-fbe6-4ebe-bc63-bd21421bb10f",
   "metadata": {},
   "outputs": [],
   "source": []
  },
  {
   "cell_type": "code",
   "execution_count": 94,
   "id": "5e72fdee-2b6e-4d36-bf4d-464d2d61fe30",
   "metadata": {},
   "outputs": [
    {
     "name": "stdout",
     "output_type": "stream",
     "text": [
      "[0.27406862 0.45186276 0.27406862]\n",
      "[0.13487191 0.22236618 0.28552383 0.22236618 0.13487191]\n",
      "[0.08886959 0.12656087 0.18023774 0.2086636  0.18023774 0.12656087\n",
      " 0.08886959]\n",
      "[0.06654214 0.08544179 0.11637903 0.14943363 0.16440681 0.14943363\n",
      " 0.11637903 0.08544179 0.06654214]\n",
      "[0.05335564 0.06407104 0.08226884 0.10563529 0.12684999 0.13563839\n",
      " 0.12684999 0.10563529 0.08226884 0.06407104 0.05335564]\n"
     ]
    },
    {
     "data": {
      "image/png": "[encoded data removed]",
      "text/plain": [
       "<Figure size 432x288 with 5 Axes>"
      ]
     },
     "metadata": {
      "needs_background": "light"
     },
     "output_type": "display_data"
    }
   ],
   "source": [
    "ll = [3,5,7,9,11]\n",
    "fig, axs = plt.subplots(len(ll),1)\n",
    "for idx, i in enumerate(ll):\n",
    "    axs[idx].plot(get_spspspps(i))\n",
    "    print(get_spspspps(i))\n",
    "plt.tight_layout()\n",
    "plt.show()"
   ]
  },
  {
   "cell_type": "code",
   "execution_count": 96,
   "id": "103f1ab5-1fd6-4810-ae5f-98b25be96470",
   "metadata": {},
   "outputs": [
    {
     "data": {
      "text/plain": [
       "False"
      ]
     },
     "execution_count": 96,
     "metadata": {},
     "output_type": "execute_result"
    }
   ],
   "source": [
    "0 < 0-1 <2399"
   ]
  },
  {
   "cell_type": "code",
   "execution_count": 98,
   "id": "0d560019-4b84-47e9-baba-2d90ee245446",
   "metadata": {},
   "outputs": [
    {
     "data": {
      "text/plain": [
       "True"
      ]
     },
     "execution_count": 98,
     "metadata": {},
     "output_type": "execute_result"
    }
   ],
   "source": [
    "not  0 < -1 < len(self.node_representation)"
   ]
  },
  {
   "cell_type": "code",
   "execution_count": 99,
   "id": "b65111db-cced-4e13-a6a6-1e8a5edecaad",
   "metadata": {},
   "outputs": [],
   "source": [
    "def get_filter_weight(odd):\n",
    "    win = scipy.signal.windows.get_window('hann', odd + 2, fftbins=False)\n",
    "    return scipy.special.softmax(win[1:-1])"
   ]
  },
  {
   "cell_type": "code",
   "execution_count": 110,
   "id": "be21a0cc-5bf4-44ed-997b-5704cf4b020a",
   "metadata": {},
   "outputs": [],
   "source": [
    "import numpy as np\n",
    "aa = np.array([1,2,3,4,5])"
   ]
  },
  {
   "cell_type": "code",
   "execution_count": 109,
   "id": "9d8bffbe-8a46-4213-aa18-601df41f04bc",
   "metadata": {},
   "outputs": [
    {
     "ename": "SyntaxError",
     "evalue": "unexpected EOF while parsing (Temp/ipykernel_1492/2450142395.py, line 2)",
     "output_type": "error",
     "traceback": [
      "\u001B[1;36m  File \u001B[1;32m\"C:\\Users\\lab87\\AppData\\Local\\Temp/ipykernel_1492/2450142395.py\"\u001B[1;36m, line \u001B[1;32m2\u001B[0m\n\u001B[1;33m    \u001B[0m\n\u001B[1;37m    ^\u001B[0m\n\u001B[1;31mSyntaxError\u001B[0m\u001B[1;31m:\u001B[0m unexpected EOF while parsing\n"
     ]
    }
   ],
   "source": [
    "for idx in range(len(aa)):\n",
    "    if not (0<=idx)\n",
    "    aa[idx]"
   ]
  },
  {
   "cell_type": "code",
   "execution_count": 107,
   "id": "36cdbe5f-6e84-48b6-b2c2-1c326cbf98f4",
   "metadata": {},
   "outputs": [
    {
     "data": {
      "text/plain": [
       "array([0.27406862, 0.45186276, 0.27406862])"
      ]
     },
     "execution_count": 107,
     "metadata": {},
     "output_type": "execute_result"
    }
   ],
   "source": [
    "get_filter_weight(3)"
   ]
  },
  {
   "cell_type": "code",
   "execution_count": 141,
   "id": "8a4002e8-9684-44f8-8443-f5438e7123c1",
   "metadata": {},
   "outputs": [
    {
     "name": "stdout",
     "output_type": "stream",
     "text": [
      "0\n"
     ]
    },
    {
     "data": {
      "text/plain": [
       "array([7, 6, 5, 4, 3, 2, 1, 0, 1, 2, 3, 4, 5, 6, 7])"
      ]
     },
     "execution_count": 141,
     "metadata": {},
     "output_type": "execute_result"
    }
   ],
   "source": [
    "bb = np.arange(0,99)\n",
    "\n",
    "w = 7\n",
    "c = 0\n",
    "print(bb[c])\n",
    "\n",
    "bb = np.pad(bb, pad_width=w, mode='reflect')\n",
    "\n",
    "bb[c:c+2*w+1]"
   ]
  },
  {
   "cell_type": "code",
   "execution_count": 143,
   "id": "b27163f8-3d8c-49d0-bef9-e6ea818a7c68",
   "metadata": {},
   "outputs": [
    {
     "data": {
      "text/plain": [
       "3.0252305977357934"
      ]
     },
     "execution_count": 143,
     "metadata": {},
     "output_type": "execute_result"
    }
   ],
   "source": [
    "sum(bb[c: c+2*w+1] * get_filter_weight(15))"
   ]
  },
  {
   "cell_type": "code",
   "execution_count": 152,
   "id": "4740e4a1-7bd4-41c6-be12-34fae0bf8ef2",
   "metadata": {},
   "outputs": [
    {
     "data": {
      "text/plain": [
       "array([[1, 2, 3],\n",
       "       [4, 5, 6],\n",
       "       [7, 8, 9]])"
      ]
     },
     "execution_count": 152,
     "metadata": {},
     "output_type": "execute_result"
    }
   ],
   "source": [
    "np.array([[1,2,3],[4,5,6],[7,8,9]])"
   ]
  },
  {
   "cell_type": "code",
   "execution_count": 151,
   "id": "a52c84e4-2609-4309-ac06-60eb5c8c0f36",
   "metadata": {},
   "outputs": [
    {
     "data": {
      "text/plain": [
       "array([[1],\n",
       "       [2],\n",
       "       [3]])"
      ]
     },
     "execution_count": 151,
     "metadata": {},
     "output_type": "execute_result"
    }
   ],
   "source": [
    "np.array([[1],[2],[3]])"
   ]
  },
  {
   "cell_type": "code",
   "execution_count": null,
   "id": "eb007568-7706-4f63-a568-81358a870aec",
   "metadata": {},
   "outputs": [],
   "source": []
  }
 ],
 "metadata": {
  "kernelspec": {
   "display_name": "Python 3 (ipykernel)",
   "language": "python",
   "name": "python3"
  },
  "language_info": {
   "codemirror_mode": {
    "name": "ipython",
    "version": 3
   },
   "file_extension": ".py",
   "mimetype": "text/x-python",
   "name": "python",
   "nbconvert_exporter": "python",
   "pygments_lexer": "ipython3",
   "version": "3.8.12"
  }
 },
 "nbformat": 4,
 "nbformat_minor": 5
}