{
 "cells": [
  {
   "cell_type": "code",
   "execution_count": 1,
   "id": "daa15910-23f6-4acb-8f60-aec4ae0ab6f4",
   "metadata": {},
   "outputs": [],
   "source": [
    "import torch\n",
    "import torchvision\n",
    "import matplotlib.pyplot as plt\n",
    "from torchvision import datasets\n",
    "from torchvision import transforms\n",
    "import numpy as np "
   ]
  },
  {
   "cell_type": "code",
   "execution_count": 3,
   "id": "db5c86e4-d993-47a6-9091-da5ce2f97056",
   "metadata": {},
   "outputs": [],
   "source": [
    "mnist_dataset = torchvision.datasets.MNIST('./minst', train = True, download=False)"
   ]
  },
  {
   "cell_type": "code",
   "execution_count": 4,
   "id": "a1b6f4a3-8579-4ae7-82a1-2976240954a7",
   "metadata": {},
   "outputs": [],
   "source": [
    "if False:\n",
    "    it = iter(mnist_dataset)\n",
    "    img, label = next(it)\n",
    "    plt.imshow(img);\n",
    "    plt.show();"
   ]
  },
  {
   "cell_type": "code",
   "execution_count": 10,
   "id": "b61759cc-52a6-4839-9dec-c96dfd94c58a",
   "metadata": {},
   "outputs": [
    {
     "name": "stdout",
     "output_type": "stream",
     "text": [
      "cuda\n"
     ]
    }
   ],
   "source": [
    "tensor_transform = transforms.ToTensor()\n",
    "\n",
    "dataset = datasets.MNIST(root = \"./minst\",\n",
    "                         train = True,                         download = False,\n",
    "                         transform = tensor_transform)\n",
    "\n",
    "loader = torch.utils.data.DataLoader(dataset = dataset,\n",
    "                                     batch_size = 32,\n",
    "                                     shuffle = True)\n",
    "\n",
    "device = 'cuda' if torch.cuda.is_available() else 'cpu'\n",
    "print(device)"
   ]
  },
  {
   "cell_type": "code",
   "execution_count": 36,
   "id": "93580185-7450-452b-b8f9-38d3fb74f172",
   "metadata": {},
   "outputs": [],
   "source": [
    "class Encoder(torch.nn.Module):\n",
    "    def __init__(self):\n",
    "        super().__init__()\n",
    "        self.conv1 = torch.nn.Conv2d(1, 32, (3, 3), padding=1)\n",
    "        self.act_1 = torch.nn.ReLU()\n",
    "        self.conv2 = torch.nn.Conv2d(32, 16, (3, 3), padding=1)\n",
    "        self.act_2 = torch.nn.ReLU()\n",
    "        self.conv3 = torch.nn.Conv2d(16, 8, (3, 3), padding=1)\n",
    "        self.act_3 = torch.nn.ReLU()\n",
    "        \n",
    "    def forward(self, x):\n",
    "        x = self.conv1(x)\n",
    "        x = self.act_1(x)\n",
    "        x = self.conv2(x)\n",
    "        x = self.act_2(x)\n",
    "        x = self.conv3(x)\n",
    "        x = self.act_3(x)\n",
    "        # x.shape[0] : 批次數\n",
    "        x = torch.reshape(x, (x.shape[0], -1))\n",
    "        return x\n",
    "    \n",
    "class Decoder(torch.nn.Module):\n",
    "    def __init__(self):\n",
    "        super().__init__()\n",
    "        self.dconv1 = torch.nn.ConvTranspose2d(8,16, (3,3), padding=1)\n",
    "        self.act_1 = torch.nn.ReLU()\n",
    "        self.dconv2 = torch.nn.ConvTranspose2d(16,32, (3,3), padding=1)\n",
    "        self.act_2 = torch.nn.ReLU()\n",
    "        self.dconv3 = torch.nn.ConvTranspose2d(32, 1, (3,3), padding=1)\n",
    "        self.act_3 = torch.nn.ReLU()\n",
    "        \n",
    "    def forward(self, x):\n",
    "        # (batch, 8=根據Encoder的最後一層 Conv depth, , )\n",
    "        x = torch.reshape(x, (-1, 8, 28, 28))\n",
    "        \n",
    "        x = self.dconv1(x)\n",
    "        x = self.act_1(x)\n",
    "        x = self.dconv2(x)\n",
    "        x = self.act_2(x)\n",
    "        x = self.dconv3(x)\n",
    "        x = self.act_3(x)\n",
    "        \n",
    "        return x\n",
    "\n",
    "\n",
    "class NAE(torch.nn.Module):\n",
    "    def __init__(self):\n",
    "        super().__init__()\n",
    "        self.encoder = Encoder()\n",
    "        self.decoder = Decoder()\n",
    "    \n",
    "    def forward(self, x):\n",
    "        x = self.encoder(x)\n",
    "        x = self.decoder(x)\n",
    "        \n",
    "        return x\n",
    "\n",
    "# 28*28 ==> 9 ==> 28*28\n",
    "class AE(torch.nn.Module):\n",
    "    def __init__(self):\n",
    "        super().__init__()\n",
    "          \n",
    "        # Building an linear encoder with Linear\n",
    "        # layer followed by Relu activation function\n",
    "        # 784 ==> 9\n",
    "        self.encoder = torch.nn.Sequential(\n",
    "            torch.nn.Linear(28 * 28, 128),\n",
    "            torch.nn.ReLU(),\n",
    "            torch.nn.Linear(128, 64),\n",
    "            torch.nn.ReLU(),\n",
    "            torch.nn.Linear(64, 36),\n",
    "            torch.nn.ReLU(),\n",
    "            torch.nn.Linear(36, 18),\n",
    "            torch.nn.ReLU(),\n",
    "            torch.nn.Linear(18, 9)\n",
    "        )\n",
    "          \n",
    "        # Building an linear decoder with Linear\n",
    "        # layer followed by Relu activation function\n",
    "        # The Sigmoid activation function\n",
    "        # outputs the value between 0 and 1\n",
    "        # 9 ==> 784\n",
    "        self.decoder = torch.nn.Sequential(\n",
    "            torch.nn.Linear(9, 18),\n",
    "            torch.nn.ReLU(),\n",
    "            torch.nn.Linear(18, 36),\n",
    "            torch.nn.ReLU(),\n",
    "            torch.nn.Linear(36, 64),\n",
    "            torch.nn.ReLU(),\n",
    "            torch.nn.Linear(64, 128),\n",
    "            torch.nn.ReLU(),\n",
    "            torch.nn.Linear(128, 28 * 28),\n",
    "            torch.nn.Sigmoid()\n",
    "        )\n",
    "  \n",
    "    def forward(self, x):\n",
    "        encoded = self.encoder(x)\n",
    "        decoded = self.decoder(encoded)\n",
    "        return decoded"
   ]
  },
  {
   "cell_type": "code",
   "execution_count": 39,
   "id": "159305fb-0f78-4e15-b7cd-bfa5005d6dce",
   "metadata": {},
   "outputs": [
    {
     "name": "stdout",
     "output_type": "stream",
     "text": [
      "torch.Size([1, 6272])\n",
      "torch.Size([1, 1, 28, 28])\n"
     ]
    },
    {
     "data": {
      "text/plain": [
       "torch.Size([1, 1, 28, 28])"
      ]
     },
     "execution_count": 39,
     "metadata": {},
     "output_type": "execute_result"
    }
   ],
   "source": [
    "# test unit 可以做動\n",
    "hi_encoder = Encoder()\n",
    "\n",
    "out = hi_encoder(torch.randn((1, 1, 28, 28)))\n",
    "print(out.shape)\n",
    "\n",
    "hi_decoder = Decoder()\n",
    "\n",
    "oout = hi_decoder(out)\n",
    "print(oout.shape)\n",
    "\n",
    "hi_autoencoder = NAE()\n",
    "\n",
    "hi_out = hi_autoencoder(torch.randn((1, 1, 28, 28)))\n",
    "hi_out.shape\n"
   ]
  },
  {
   "cell_type": "code",
   "execution_count": 7,
   "id": "fb13a3b9-845d-4cdc-9a1b-1309c64ca240",
   "metadata": {},
   "outputs": [],
   "source": [
    "model = AE()\n",
    "model.cuda()\n",
    "  \n",
    "# Validation using MSE Loss function\n",
    "loss_function = torch.nn.MSELoss()\n",
    "  \n",
    "# Using an Adam Optimizer with lr = 0.1\n",
    "optimizer = torch.optim.Adam(model.parameters(),\n",
    "                             lr = 1e-1,\n",
    "                             weight_decay = 1e-8)"
   ]
  },
  {
   "cell_type": "code",
   "execution_count": 14,
   "id": "69c5fad9-6225-41d6-a97a-4cd3edb40799",
   "metadata": {},
   "outputs": [
    {
     "data": {
      "text/plain": [
       "tensor([[0.4824, 0.5005, 0.4867, 0.5055, 0.4939, 0.4941, 0.5185, 0.5006, 0.5093,\n",
       "         0.5199, 0.4747, 0.5147, 0.5056, 0.4705, 0.4920, 0.5233, 0.5110, 0.5041,\n",
       "         0.5168, 0.4862, 0.4735, 0.5131, 0.5182, 0.5078, 0.5102, 0.4838, 0.4723,\n",
       "         0.4765, 0.4857, 0.4936, 0.5153, 0.4703, 0.4999, 0.5221, 0.4983, 0.4987,\n",
       "         0.5217, 0.5000, 0.5088, 0.4866, 0.5041, 0.5134, 0.5229, 0.4886, 0.5149,\n",
       "         0.5114, 0.4870, 0.5017, 0.4794, 0.4738, 0.4911, 0.4910, 0.4865, 0.5096,\n",
       "         0.4843, 0.5218, 0.4847, 0.4999, 0.4998, 0.4903, 0.5383, 0.5010, 0.4945,\n",
       "         0.4901, 0.4953, 0.4829, 0.4985, 0.4895, 0.5134, 0.4844, 0.5164, 0.4823,\n",
       "         0.5286, 0.5069, 0.5279, 0.5184, 0.4892, 0.5101, 0.5233, 0.4999, 0.5272,\n",
       "         0.5017, 0.4962, 0.4852, 0.4860, 0.4750, 0.4816, 0.5001, 0.4663, 0.4982,\n",
       "         0.5200, 0.5220, 0.4870, 0.4725, 0.5187, 0.5213, 0.5319, 0.5046, 0.5050,\n",
       "         0.4926, 0.5127, 0.5087, 0.4816, 0.4767, 0.4975, 0.5121, 0.5153, 0.5248,\n",
       "         0.4632, 0.4852, 0.4858, 0.5115, 0.5079, 0.4799, 0.5100, 0.5076, 0.5115,\n",
       "         0.5094, 0.5018, 0.4903, 0.4813, 0.4703, 0.5120, 0.5055, 0.5201, 0.5033,\n",
       "         0.5259, 0.5096, 0.5102, 0.5029, 0.4847, 0.5174, 0.4974, 0.5121, 0.4877,\n",
       "         0.5061, 0.5144, 0.4885, 0.4812, 0.5083, 0.5010, 0.5175, 0.5050, 0.4966,\n",
       "         0.4918, 0.4891, 0.5181, 0.4755, 0.5152, 0.4896, 0.5097, 0.5147, 0.5175,\n",
       "         0.4738, 0.5061, 0.4860, 0.4933, 0.5112, 0.5167, 0.4937, 0.5226, 0.5036,\n",
       "         0.4923, 0.4810, 0.4930, 0.4803, 0.4817, 0.4892, 0.4996, 0.5134, 0.5135,\n",
       "         0.5042, 0.5089, 0.5039, 0.4774, 0.5218, 0.4814, 0.5158, 0.5363, 0.5103,\n",
       "         0.4948, 0.4700, 0.5117, 0.4932, 0.5096, 0.4857, 0.4850, 0.4986, 0.4840,\n",
       "         0.5065, 0.4946, 0.5034, 0.5037, 0.4925, 0.4899, 0.4933, 0.5229, 0.4913,\n",
       "         0.5012, 0.5094, 0.4975, 0.4841, 0.5099, 0.5108, 0.5370, 0.4808, 0.4849,\n",
       "         0.4995, 0.5003, 0.4937, 0.5062, 0.4923, 0.5149, 0.4828, 0.5271, 0.4880,\n",
       "         0.4945, 0.4713, 0.4971, 0.4627, 0.4759, 0.4792, 0.5067, 0.4960, 0.4876,\n",
       "         0.5193, 0.5066, 0.5102, 0.4989, 0.5106, 0.4745, 0.4990, 0.4871, 0.4865,\n",
       "         0.4820, 0.4997, 0.4985, 0.5148, 0.4798, 0.5073, 0.5019, 0.5134, 0.5160,\n",
       "         0.4878, 0.4897, 0.4762, 0.4841, 0.5177, 0.4971, 0.4927, 0.5109, 0.4965,\n",
       "         0.4810, 0.4726, 0.4778, 0.4913, 0.5070, 0.5154, 0.4988, 0.4851, 0.4793,\n",
       "         0.4896, 0.4969, 0.5008, 0.4934, 0.5176, 0.4980, 0.5061, 0.5048, 0.5163,\n",
       "         0.5085, 0.5062, 0.4990, 0.5203, 0.4788, 0.4947, 0.5250, 0.5010, 0.5010,\n",
       "         0.5065, 0.5127, 0.5028, 0.5060, 0.5084, 0.5044, 0.5270, 0.4945, 0.4837,\n",
       "         0.5029, 0.5112, 0.5109, 0.4918, 0.4954, 0.4730, 0.4929, 0.5156, 0.4795,\n",
       "         0.5159, 0.5166, 0.5009, 0.5027, 0.4935, 0.4868, 0.4944, 0.4821, 0.5034,\n",
       "         0.5061, 0.5170, 0.5071, 0.4968, 0.5022, 0.5105, 0.5182, 0.4941, 0.4892,\n",
       "         0.4778, 0.4909, 0.5195, 0.5053, 0.4973, 0.4787, 0.5265, 0.4905, 0.5251,\n",
       "         0.4827, 0.4850, 0.4991, 0.5062, 0.5079, 0.5118, 0.4743, 0.4927, 0.4929,\n",
       "         0.5311, 0.5094, 0.4850, 0.5147, 0.5094, 0.4860, 0.4739, 0.4734, 0.4900,\n",
       "         0.5280, 0.5048, 0.5160, 0.5145, 0.5016, 0.5113, 0.5081, 0.4734, 0.4843,\n",
       "         0.5006, 0.4978, 0.4913, 0.4893, 0.4787, 0.4749, 0.5111, 0.4865, 0.4870,\n",
       "         0.4855, 0.4793, 0.4948, 0.5056, 0.5103, 0.4737, 0.4886, 0.5059, 0.4757,\n",
       "         0.4957, 0.4821, 0.5066, 0.4940, 0.4933, 0.4986, 0.4785, 0.5245, 0.4769,\n",
       "         0.4958, 0.4814, 0.5065, 0.4655, 0.5197, 0.4976, 0.5210, 0.4909, 0.4940,\n",
       "         0.5096, 0.5076, 0.5063, 0.4851, 0.5106, 0.4719, 0.4763, 0.5048, 0.4897,\n",
       "         0.5169, 0.4888, 0.5175, 0.4858, 0.5075, 0.4972, 0.4921, 0.4987, 0.5202,\n",
       "         0.5243, 0.5170, 0.5260, 0.4847, 0.5164, 0.4930, 0.4969, 0.4681, 0.4798,\n",
       "         0.4829, 0.4720, 0.4870, 0.4871, 0.4964, 0.4808, 0.4840, 0.4955, 0.4930,\n",
       "         0.4797, 0.5208, 0.4871, 0.5159, 0.4842, 0.4801, 0.5131, 0.5181, 0.4914,\n",
       "         0.5107, 0.5141, 0.5026, 0.4989, 0.5017, 0.4914, 0.5232, 0.5159, 0.5034,\n",
       "         0.4798, 0.4923, 0.5228, 0.5225, 0.4861, 0.5253, 0.5112, 0.4977, 0.4909,\n",
       "         0.5240, 0.5060, 0.5006, 0.5136, 0.5197, 0.5140, 0.5167, 0.4938, 0.5291,\n",
       "         0.4822, 0.5079, 0.4909, 0.5094, 0.5244, 0.4810, 0.5196, 0.4982, 0.4952,\n",
       "         0.5132, 0.5181, 0.5005, 0.4963, 0.4760, 0.4926, 0.4873, 0.4847, 0.5030,\n",
       "         0.4879, 0.5231, 0.5267, 0.5036, 0.5078, 0.4893, 0.4906, 0.5076, 0.5119,\n",
       "         0.5021, 0.4959, 0.4852, 0.4932, 0.5154, 0.5107, 0.4790, 0.4872, 0.5016,\n",
       "         0.5105, 0.5244, 0.5004, 0.4972, 0.5076, 0.5184, 0.4909, 0.4829, 0.4942,\n",
       "         0.5098, 0.5131, 0.5248, 0.5166, 0.5159, 0.5076, 0.5036, 0.4976, 0.4784,\n",
       "         0.4849, 0.4940, 0.5125, 0.5008, 0.5003, 0.5064, 0.4875, 0.5232, 0.4955,\n",
       "         0.5082, 0.5179, 0.4915, 0.5114, 0.5060, 0.4832, 0.5140, 0.5174, 0.5193,\n",
       "         0.5218, 0.4729, 0.5115, 0.4941, 0.4934, 0.5147, 0.4934, 0.5024, 0.5001,\n",
       "         0.4989, 0.4925, 0.4950, 0.5159, 0.5113, 0.4913, 0.4854, 0.5144, 0.5129,\n",
       "         0.5089, 0.4848, 0.5153, 0.5195, 0.4742, 0.4966, 0.4826, 0.5037, 0.5012,\n",
       "         0.5169, 0.5020, 0.5202, 0.4970, 0.5198, 0.5064, 0.5200, 0.4910, 0.5041,\n",
       "         0.4744, 0.4770, 0.4938, 0.4971, 0.4765, 0.5050, 0.4926, 0.5046, 0.5234,\n",
       "         0.5209, 0.4920, 0.5103, 0.4961, 0.5192, 0.4897, 0.5086, 0.4832, 0.4730,\n",
       "         0.4919, 0.4983, 0.4876, 0.4843, 0.4737, 0.5151, 0.5061, 0.4985, 0.5226,\n",
       "         0.5007, 0.4806, 0.5032, 0.4669, 0.4911, 0.5145, 0.5140, 0.4890, 0.4786,\n",
       "         0.5124, 0.4997, 0.5146, 0.4842, 0.4799, 0.5024, 0.5150, 0.4906, 0.4901,\n",
       "         0.4826, 0.4839, 0.4768, 0.5172, 0.4737, 0.4783, 0.5231, 0.5108, 0.5059,\n",
       "         0.4931, 0.5305, 0.4872, 0.4845, 0.5113, 0.4906, 0.5152, 0.5303, 0.4974,\n",
       "         0.5026, 0.4895, 0.4904, 0.5142, 0.4841, 0.4824, 0.5021, 0.5227, 0.5065,\n",
       "         0.5031, 0.5096, 0.5019, 0.5027, 0.4872, 0.4941, 0.5141, 0.4939, 0.5064,\n",
       "         0.5209, 0.5227, 0.4755, 0.5045, 0.5045, 0.4929, 0.4957, 0.4808, 0.5221,\n",
       "         0.5084, 0.5032, 0.5201, 0.4902, 0.5220, 0.4922, 0.4791, 0.4934, 0.5171,\n",
       "         0.4946, 0.4818, 0.4795, 0.5093, 0.5195, 0.5143, 0.5122, 0.4766, 0.4911,\n",
       "         0.5141, 0.5390, 0.5197, 0.4707, 0.5110, 0.5002, 0.4876, 0.5059, 0.4889,\n",
       "         0.5020, 0.5002, 0.5097, 0.4928, 0.5094, 0.5014, 0.4937, 0.4871, 0.4717,\n",
       "         0.5186, 0.4991, 0.5153, 0.4992, 0.5158, 0.5214, 0.5156, 0.4742, 0.4754,\n",
       "         0.5024, 0.5306, 0.4975, 0.4860, 0.5225, 0.5143, 0.5058, 0.4932, 0.5101,\n",
       "         0.4924, 0.4974, 0.5141, 0.5281, 0.5287, 0.5185, 0.5101, 0.4722, 0.4838,\n",
       "         0.5099, 0.4982, 0.5037, 0.5267, 0.5003, 0.5045, 0.4967, 0.5105, 0.5152,\n",
       "         0.5069, 0.4905, 0.4904, 0.5147, 0.4929, 0.5179, 0.4855, 0.4792, 0.4772,\n",
       "         0.4777, 0.4822, 0.4820, 0.4996, 0.4854, 0.4885, 0.4933, 0.5129, 0.4843,\n",
       "         0.4777, 0.4837, 0.5217, 0.4912, 0.5119, 0.5030, 0.5095, 0.4815, 0.5231,\n",
       "         0.4952, 0.5014, 0.4761, 0.4823, 0.4793, 0.5135, 0.5046, 0.4986, 0.4965,\n",
       "         0.4911, 0.5069, 0.5170, 0.4954, 0.5106, 0.4838, 0.4776, 0.5246, 0.4821,\n",
       "         0.4881, 0.5052, 0.5049, 0.5053, 0.4930, 0.4751, 0.5115, 0.5287, 0.4764,\n",
       "         0.5131]], device='cuda:0', grad_fn=<SigmoidBackward0>)"
      ]
     },
     "execution_count": 14,
     "metadata": {},
     "output_type": "execute_result"
    }
   ],
   "source": [
    "fake_batch = torch.randn((1,28*28), device=device)\n",
    "model(fake_batch)"
   ]
  },
  {
   "cell_type": "code",
   "execution_count": 11,
   "id": "ea723f21-21f5-493a-bbe6-ab04995fc386",
   "metadata": {},
   "outputs": [
    {
     "name": "stderr",
     "output_type": "stream",
     "text": [
      "C:\\Users\\Anicca\\AppData\\Local\\Temp\\ipykernel_25956\\3315468010.py:8: UserWarning: To copy construct from a tensor, it is recommended to use sourceTensor.clone().detach() or sourceTensor.clone().detach().requires_grad_(True), rather than torch.tensor(sourceTensor).\n",
      "  image = torch.tensor(image, device=\"cuda\")\n"
     ]
    },
    {
     "data": {
      "text/plain": [
       "[<matplotlib.lines.Line2D at 0x1c10f838af0>]"
      ]
     },
     "execution_count": 11,
     "metadata": {},
     "output_type": "execute_result"
    },
    {
     "data": {
      "image/png": "[encoded data removed]",
      "text/plain": [
       "<Figure size 432x288 with 1 Axes>"
      ]
     },
     "metadata": {},
     "output_type": "display_data"
    }
   ],
   "source": [
    "epochs = 20\n",
    "outputs = []\n",
    "losses = []\n",
    "for epoch in range(epochs):\n",
    "    for (image, _) in loader:\n",
    "        # Reshaping the image to (-1, 784)\n",
    "        image = image.reshape(-1, 28*28)\n",
    "        image = torch.tensor(image, device=device)\n",
    "        # Output of Autoencoder\n",
    "        reconstructed = model(image)\n",
    "        # Calculating the loss function\n",
    "        loss = loss_function(reconstructed, image)\n",
    "        # The gradients are set to zero,\n",
    "        # the the gradient is computed and stored.\n",
    "        # .step() performs parameter update\n",
    "        optimizer.zero_grad()\n",
    "        loss.backward()\n",
    "        optimizer.step()\n",
    "\n",
    "        # Storing the losses in a list for plotting\n",
    "        losses.append(loss.detach().cpu().numpy())\n",
    "    outputs.append((epochs, image, reconstructed))\n",
    "  \n",
    "# Defining the Plot Style\n",
    "plt.style.use('fivethirtyeight')\n",
    "plt.xlabel('Iterations')\n",
    "plt.ylabel('Loss')\n",
    "  \n",
    "# Plotting the last 100 values\n",
    "plt.plot(losses[-100:])"
   ]
  },
  {
   "cell_type": "code",
   "execution_count": 14,
   "id": "468c1665-1672-4598-8bbc-9b7ec4510669",
   "metadata": {},
   "outputs": [
    {
     "data": {
      "image/png": "[encoded data removed]",
      "text/plain": [
       "<Figure size 432x288 with 1 Axes>"
      ]
     },
     "metadata": {},
     "output_type": "display_data"
    }
   ],
   "source": [
    "for i, item in enumerate(image):\n",
    "    \n",
    "  # Reshape the array for plotting\n",
    "  item = item.reshape(-1, 28, 28).detach().cpu().numpy()\n",
    "  plt.imshow(item[0])\n",
    "  \n",
    "for i, item in enumerate(reconstructed):\n",
    "  item = item.reshape(-1, 28, 28).detach().cpu().numpy()\n",
    "  plt.imshow(item[0])"
   ]
  },
  {
   "cell_type": "code",
   "execution_count": 55,
   "id": "d78c165f-c370-41d6-b557-e69b00cd119f",
   "metadata": {},
   "outputs": [],
   "source": [
    "plt.show()"
   ]
  },
  {
   "cell_type": "code",
   "execution_count": null,
   "id": "34210b70-fa04-40a4-b0c8-c8d238bf9c7b",
   "metadata": {},
   "outputs": [],
   "source": []
  }
 ],
 "metadata": {
  "kernelspec": {
   "display_name": "Python 3 (ipykernel)",
   "language": "python",
   "name": "python3"
  },
  "language_info": {
   "codemirror_mode": {
    "name": "ipython",
    "version": 3
   },
   "file_extension": ".py",
   "mimetype": "text/x-python",
   "name": "python",
   "nbconvert_exporter": "python",
   "pygments_lexer": "ipython3",
   "version": "3.8.12"
  }
 },
 "nbformat": 4,
 "nbformat_minor": 5
}