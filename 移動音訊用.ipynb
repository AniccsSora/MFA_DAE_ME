{
 "cells": [
  {
   "cell_type": "code",
   "execution_count": 14,
   "id": "55ec557a-6423-4561-9ac4-dd6605db5eaa",
   "metadata": {},
   "outputs": [],
   "source": [
    "import  glob\n",
    "from pathlib import Path\n",
    "import os\n",
    "import numpy as np\n",
    "import matplotlib.pyplot as plt\n",
    "import shutil"
   ]
  },
  {
   "cell_type": "code",
   "execution_count": 15,
   "id": "03fb435a-35a5-4a78-8638-7ae9868cfa15",
   "metadata": {},
   "outputs": [],
   "source": [
    "os.chdir(\"H:\")\n",
    "os.chdir(f\"H:/我的雲端硬碟/元智大學/論文/論文實驗數據/73數據\")"
   ]
  },
  {
   "cell_type": "code",
   "execution_count": 16,
   "id": "3901b5be-c106-4e2e-8d55-fe53d860ae61",
   "metadata": {},
   "outputs": [
    {
     "data": {
      "text/plain": [
       "'H:\\\\我的雲端硬碟\\\\元智大學\\\\論文\\\\論文實驗數據\\\\73數據'"
      ]
     },
     "execution_count": 16,
     "metadata": {},
     "output_type": "execute_result"
    }
   ],
   "source": [
    "cwd = os.getcwd()\n",
    "cwd"
   ]
  },
  {
   "cell_type": "code",
   "execution_count": 17,
   "id": "ce7f786d-a03b-400f-a64d-095e935b7afa",
   "metadata": {},
   "outputs": [],
   "source": [
    "root_paths = [Path(cwd,'./first_30'),Path(cwd,'./last_14'),Path(cwd,'./middle_29')]\n",
    "src_dir= 'test_my_source2'\n",
    "save_path = Path(cwd).joinpath('my_heart73')\n",
    "\n",
    "if save_path.is_dir() is False:\n",
    "    print(f\"make : {save_path}\")\n",
    "    os.makedirs(save_path, exist_ok=True)"
   ]
  },
  {
   "cell_type": "code",
   "execution_count": 18,
   "id": "91a3bae6-3375-49e6-9844-19fac041c387",
   "metadata": {},
   "outputs": [
    {
     "data": {
      "text/plain": [
       "WindowsPath('H:/我的雲端硬碟/元智大學/論文/論文實驗數據/73數據/my_heart73')"
      ]
     },
     "execution_count": 18,
     "metadata": {},
     "output_type": "execute_result"
    }
   ],
   "source": [
    "# 複製目的地\n",
    "save_path"
   ]
  },
  {
   "cell_type": "code",
   "execution_count": 19,
   "id": "3e2e8d8d-4789-4c0d-a1ce-f6dcc4d8d4db",
   "metadata": {},
   "outputs": [
    {
     "name": "stdout",
     "output_type": "stream",
     "text": [
      "H:\\我的雲端硬碟\\元智大學\\論文\\論文實驗數據\\73數據\\first_30\\test_my_source2\\101_1b1_Al_sc_Meditron.wav\n",
      "H:\\我的雲端硬碟\\元智大學\\論文\\論文實驗數據\\73數據\\first_30\\test_my_source2\\102_1b1_Ar_sc_Meditron.wav\n",
      "H:\\我的雲端硬碟\\元智大學\\論文\\論文實驗數據\\73數據\\first_30\\test_my_source2\\107_2b3_Al_mc_AKGC417L.wav\n",
      "H:\\我的雲端硬碟\\元智大學\\論文\\論文實驗數據\\73數據\\first_30\\test_my_source2\\121_1b1_Tc_sc_Meditron.wav\n",
      "H:\\我的雲端硬碟\\元智大學\\論文\\論文實驗數據\\73數據\\first_30\\test_my_source2\\121_1p1_Tc_sc_Meditron.wav\n",
      "H:\\我的雲端硬碟\\元智大學\\論文\\論文實驗數據\\73數據\\first_30\\test_my_source2\\123_1b1_Al_sc_Meditron.wav\n",
      "H:\\我的雲端硬碟\\元智大學\\論文\\論文實驗數據\\73數據\\first_30\\test_my_source2\\125_1b1_Tc_sc_Meditron.wav\n",
      "H:\\我的雲端硬碟\\元智大學\\論文\\論文實驗數據\\73數據\\first_30\\test_my_source2\\126_1b1_Al_sc_Meditron.wav\n",
      "H:\\我的雲端硬碟\\元智大學\\論文\\論文實驗數據\\73數據\\first_30\\test_my_source2\\127_1b1_Ar_sc_Meditron.wav\n",
      "H:\\我的雲端硬碟\\元智大學\\論文\\論文實驗數據\\73數據\\first_30\\test_my_source2\\130_3p4_Al_mc_AKGC417L.wav\n",
      "H:\\我的雲端硬碟\\元智大學\\論文\\論文實驗數據\\73數據\\first_30\\test_my_source2\\131_1b1_Al_sc_Meditron.wav\n",
      "H:\\我的雲端硬碟\\元智大學\\論文\\論文實驗數據\\73數據\\first_30\\test_my_source2\\133_2p3_Al_mc_AKGC417L.wav\n",
      "H:\\我的雲端硬碟\\元智大學\\論文\\論文實驗數據\\73數據\\first_30\\test_my_source2\\136_1b1_Ar_sc_Meditron.wav\n",
      "H:\\我的雲端硬碟\\元智大學\\論文\\論文實驗數據\\73數據\\first_30\\test_my_source2\\137_1b1_Ar_sc_Meditron.wav\n",
      "H:\\我的雲端硬碟\\元智大學\\論文\\論文實驗數據\\73數據\\first_30\\test_my_source2\\138_1p2_Ll_mc_AKGC417L.wav\n",
      "H:\\我的雲端硬碟\\元智大學\\論文\\論文實驗數據\\73數據\\first_30\\test_my_source2\\143_1b1_Al_sc_Meditron.wav\n",
      "H:\\我的雲端硬碟\\元智大學\\論文\\論文實驗數據\\73數據\\first_30\\test_my_source2\\144_1b1_Al_sc_Meditron.wav\n",
      "H:\\我的雲端硬碟\\元智大學\\論文\\論文實驗數據\\73數據\\first_30\\test_my_source2\\144_1b1_Tc_sc_Meditron.wav\n",
      "H:\\我的雲端硬碟\\元智大學\\論文\\論文實驗數據\\73數據\\first_30\\test_my_source2\\149_1b1_Al_sc_Meditron.wav\n",
      "H:\\我的雲端硬碟\\元智大學\\論文\\論文實驗數據\\73數據\\first_30\\test_my_source2\\150_1b2_Al_sc_Meditron.wav\n",
      "H:\\我的雲端硬碟\\元智大學\\論文\\論文實驗數據\\73數據\\first_30\\test_my_source2\\151_2p2_Al_mc_AKGC417L.wav\n",
      "H:\\我的雲端硬碟\\元智大學\\論文\\論文實驗數據\\73數據\\first_30\\test_my_source2\\152_1b1_Al_sc_Meditron.wav\n",
      "H:\\我的雲端硬碟\\元智大學\\論文\\論文實驗數據\\73數據\\first_30\\test_my_source2\\153_1b1_Al_sc_Meditron.wav\n",
      "H:\\我的雲端硬碟\\元智大學\\論文\\論文實驗數據\\73數據\\first_30\\test_my_source2\\154_2b4_Pr_mc_AKGC417L.wav\n",
      "H:\\我的雲端硬碟\\元智大學\\論文\\論文實驗數據\\73數據\\first_30\\test_my_source2\\159_1b1_Al_sc_Meditron.wav\n",
      "H:\\我的雲端硬碟\\元智大學\\論文\\論文實驗數據\\73數據\\first_30\\test_my_source2\\159_1b1_Ar_sc_Meditron.wav\n",
      "H:\\我的雲端硬碟\\元智大學\\論文\\論文實驗數據\\73數據\\first_30\\test_my_source2\\159_1b1_Ll_sc_Meditron.wav\n",
      "H:\\我的雲端硬碟\\元智大學\\論文\\論文實驗數據\\73數據\\first_30\\test_my_source2\\159_1b1_Pr_sc_Meditron.wav\n",
      "H:\\我的雲端硬碟\\元智大學\\論文\\論文實驗數據\\73數據\\first_30\\test_my_source2\\161_1b1_Al_sc_Meditron.wav\n",
      "H:\\我的雲端硬碟\\元智大學\\論文\\論文實驗數據\\73數據\\first_30\\test_my_source2\\162_1b2_Al_mc_AKGC417L.wav\n",
      "H:\\我的雲端硬碟\\元智大學\\論文\\論文實驗數據\\73數據\\last_14\\test_my_source2\\206_1b1_Ar_sc_Meditron.wav\n",
      "H:\\我的雲端硬碟\\元智大學\\論文\\論文實驗數據\\73數據\\last_14\\test_my_source2\\208_1b1_Ll_sc_Meditron.wav\n",
      "H:\\我的雲端硬碟\\元智大學\\論文\\論文實驗數據\\73數據\\last_14\\test_my_source2\\209_1b1_Tc_sc_Meditron.wav\n",
      "H:\\我的雲端硬碟\\元智大學\\論文\\論文實驗數據\\73數據\\last_14\\test_my_source2\\210_1b1_Al_sc_Meditron.wav\n",
      "H:\\我的雲端硬碟\\元智大學\\論文\\論文實驗數據\\73數據\\last_14\\test_my_source2\\212_2b2_Tc_mc_LittC2SE.wav\n",
      "H:\\我的雲端硬碟\\元智大學\\論文\\論文實驗數據\\73數據\\last_14\\test_my_source2\\213_2p2_Tc_mc_AKGC417L.wav\n",
      "H:\\我的雲端硬碟\\元智大學\\論文\\論文實驗數據\\73數據\\last_14\\test_my_source2\\214_1b1_Ar_sc_Meditron.wav\n",
      "H:\\我的雲端硬碟\\元智大學\\論文\\論文實驗數據\\73數據\\last_14\\test_my_source2\\216_1b1_Al_sc_Meditron.wav\n",
      "H:\\我的雲端硬碟\\元智大學\\論文\\論文實驗數據\\73數據\\last_14\\test_my_source2\\217_1b1_Tc_sc_Meditron.wav\n",
      "H:\\我的雲端硬碟\\元智大學\\論文\\論文實驗數據\\73數據\\last_14\\test_my_source2\\221_2b2_Al_mc_LittC2SE.wav\n",
      "H:\\我的雲端硬碟\\元智大學\\論文\\論文實驗數據\\73數據\\last_14\\test_my_source2\\224_1b1_Tc_sc_Meditron.wav\n",
      "H:\\我的雲端硬碟\\元智大學\\論文\\論文實驗數據\\73數據\\last_14\\test_my_source2\\224_1b2_Al_sc_Meditron.wav\n",
      "H:\\我的雲端硬碟\\元智大學\\論文\\論文實驗數據\\73數據\\last_14\\test_my_source2\\225_1b1_Pl_sc_Meditron.wav\n",
      "H:\\我的雲端硬碟\\元智大學\\論文\\論文實驗數據\\73數據\\last_14\\test_my_source2\\226_1b1_Ll_sc_Meditron.wav\n",
      "H:\\我的雲端硬碟\\元智大學\\論文\\論文實驗數據\\73數據\\middle_29\\test_my_source2\\165_1b1_Ar_sc_Meditron.wav\n",
      "H:\\我的雲端硬碟\\元智大學\\論文\\論文實驗數據\\73數據\\middle_29\\test_my_source2\\166_1p1_Pl_sc_Meditron.wav\n",
      "H:\\我的雲端硬碟\\元智大學\\論文\\論文實驗數據\\73數據\\middle_29\\test_my_source2\\167_1b1_Al_sc_Meditron.wav\n",
      "H:\\我的雲端硬碟\\元智大學\\論文\\論文實驗數據\\73數據\\middle_29\\test_my_source2\\169_1b1_Lr_sc_Meditron.wav\n",
      "H:\\我的雲端硬碟\\元智大學\\論文\\論文實驗數據\\73數據\\middle_29\\test_my_source2\\170_1b3_Al_mc_AKGC417L.wav\n",
      "H:\\我的雲端硬碟\\元智大學\\論文\\論文實驗數據\\73數據\\middle_29\\test_my_source2\\171_1b1_Al_sc_Meditron.wav\n",
      "H:\\我的雲端硬碟\\元智大學\\論文\\論文實驗數據\\73數據\\middle_29\\test_my_source2\\172_1b3_Ar_mc_AKGC417L.wav\n",
      "H:\\我的雲端硬碟\\元智大學\\論文\\論文實驗數據\\73數據\\middle_29\\test_my_source2\\173_1b1_Al_sc_Meditron.wav\n",
      "H:\\我的雲端硬碟\\元智大學\\論文\\論文實驗數據\\73數據\\middle_29\\test_my_source2\\174_2p3_Al_mc_AKGC417L.wav\n",
      "H:\\我的雲端硬碟\\元智大學\\論文\\論文實驗數據\\73數據\\middle_29\\test_my_source2\\178_1b2_Pl_mc_AKGC417L.wav\n",
      "H:\\我的雲端硬碟\\元智大學\\論文\\論文實驗數據\\73數據\\middle_29\\test_my_source2\\179_1b1_Al_sc_Meditron.wav\n",
      "H:\\我的雲端硬碟\\元智大學\\論文\\論文實驗數據\\73數據\\middle_29\\test_my_source2\\179_1b1_Tc_sc_Meditron.wav\n",
      "H:\\我的雲端硬碟\\元智大學\\論文\\論文實驗數據\\73數據\\middle_29\\test_my_source2\\182_1b1_Tc_sc_Meditron.wav\n",
      "H:\\我的雲端硬碟\\元智大學\\論文\\論文實驗數據\\73數據\\middle_29\\test_my_source2\\183_1b1_Pl_sc_Meditron.wav\n",
      "H:\\我的雲端硬碟\\元智大學\\論文\\論文實驗數據\\73數據\\middle_29\\test_my_source2\\183_1b1_Tc_sc_Meditron.wav\n",
      "H:\\我的雲端硬碟\\元智大學\\論文\\論文實驗數據\\73數據\\middle_29\\test_my_source2\\184_1b1_Ar_sc_Meditron.wav\n",
      "H:\\我的雲端硬碟\\元智大學\\論文\\論文實驗數據\\73數據\\middle_29\\test_my_source2\\186_2b2_Ar_mc_AKGC417L.wav\n",
      "H:\\我的雲端硬碟\\元智大學\\論文\\論文實驗數據\\73數據\\middle_29\\test_my_source2\\187_1b1_Ll_sc_Meditron.wav\n",
      "H:\\我的雲端硬碟\\元智大學\\論文\\論文實驗數據\\73數據\\middle_29\\test_my_source2\\188_1b1_Ar_sc_Meditron.wav\n",
      "H:\\我的雲端硬碟\\元智大學\\論文\\論文實驗數據\\73數據\\middle_29\\test_my_source2\\190_1b1_Tc_sc_Meditron.wav\n",
      "H:\\我的雲端硬碟\\元智大學\\論文\\論文實驗數據\\73數據\\middle_29\\test_my_source2\\193_7b3_Ar_mc_AKGC417L.wav\n",
      "H:\\我的雲端硬碟\\元智大學\\論文\\論文實驗數據\\73數據\\middle_29\\test_my_source2\\194_1b1_Lr_sc_Meditron.wav\n",
      "H:\\我的雲端硬碟\\元智大學\\論文\\論文實驗數據\\73數據\\middle_29\\test_my_source2\\194_1b1_Pr_sc_Meditron.wav\n",
      "H:\\我的雲端硬碟\\元智大學\\論文\\論文實驗數據\\73數據\\middle_29\\test_my_source2\\198_6p1_Tc_mc_AKGC417L.wav\n",
      "H:\\我的雲端硬碟\\元智大學\\論文\\論文實驗數據\\73數據\\middle_29\\test_my_source2\\199_2b1_Ll_mc_LittC2SE.wav\n",
      "H:\\我的雲端硬碟\\元智大學\\論文\\論文實驗數據\\73數據\\middle_29\\test_my_source2\\200_2p3_Ar_mc_AKGC417L.wav\n",
      "H:\\我的雲端硬碟\\元智大學\\論文\\論文實驗數據\\73數據\\middle_29\\test_my_source2\\202_1b1_Ar_sc_Meditron.wav\n",
      "H:\\我的雲端硬碟\\元智大學\\論文\\論文實驗數據\\73數據\\middle_29\\test_my_source2\\203_2p3_Al_mc_AKGC417L.wav\n",
      "H:\\我的雲端硬碟\\元智大學\\論文\\論文實驗數據\\73數據\\middle_29\\test_my_source2\\205_1b3_Lr_mc_AKGC417L.wav\n"
     ]
    }
   ],
   "source": [
    "for root in root_paths:\n",
    "    src_root = root.joinpath(src_dir)\n",
    "    all_file = glob.glob(f\"{src_root}/*.wav\")\n",
    "    \n",
    "    for src_file in all_file:\n",
    "        print(src_file)\n",
    "        shutil.copy2(src_file, save_path)"
   ]
  },
  {
   "cell_type": "code",
   "execution_count": null,
   "id": "30f63efd-58e3-48a4-8554-1741ce9a024b",
   "metadata": {},
   "outputs": [],
   "source": []
  }
 ],
 "metadata": {
  "kernelspec": {
   "display_name": "Python 3 (ipykernel)",
   "language": "python",
   "name": "python3"
  },
  "language_info": {
   "codemirror_mode": {
    "name": "ipython",
    "version": 3
   },
   "file_extension": ".py",
   "mimetype": "text/x-python",
   "name": "python",
   "nbconvert_exporter": "python",
   "pygments_lexer": "ipython3",
   "version": "3.8.12"
  }
 },
 "nbformat": 4,
 "nbformat_minor": 5
}
