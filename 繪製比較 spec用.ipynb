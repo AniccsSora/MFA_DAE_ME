{
 "cells": [
  {
   "cell_type": "code",
   "execution_count": 1,
   "id": "e0ccf107-c57c-474c-8c64-33bb7f074fb5",
   "metadata": {},
   "outputs": [],
   "source": [
    "import librosa\n",
    "import librosa.display\n",
    "import  glob\n",
    "from pathlib import Path\n",
    "import os\n",
    "import numpy as np\n",
    "import matplotlib.pyplot as plt"
   ]
  },
  {
   "cell_type": "code",
   "execution_count": 2,
   "id": "0b5f2f3d-cfc3-49a7-99ab-1592b15c7eca",
   "metadata": {},
   "outputs": [],
   "source": [
    "os.chdir(\"H:\")\n",
    "os.chdir(f\"H:/我的雲端硬碟/元智大學/論文/論文實驗數據/73數據\")"
   ]
  },
  {
   "cell_type": "code",
   "execution_count": 3,
   "id": "cbc6d5d9-9708-4766-bcf0-189f35fffa83",
   "metadata": {},
   "outputs": [],
   "source": [
    "cwd = os.getcwd()"
   ]
  },
  {
   "cell_type": "code",
   "execution_count": 39,
   "id": "39628cb7-bd8c-4f44-acbc-f030dea3f87a",
   "metadata": {},
   "outputs": [
    {
     "name": "stdout",
     "output_type": "stream",
     "text": [
      "warn: tar_s1_dir and tar_s2_dir 資料夾下檔案數量不一樣.\n",
      "warn: 165_1b1_Ar_sc_Meditron.wav not in the fn1 list.\n",
      "warn: 166_1p1_Pl_sc_Meditron.wav not in the fn1 list.\n",
      "warn: 167_1b1_Al_sc_Meditron.wav not in the fn1 list.\n",
      "warn: 169_1b1_Lr_sc_Meditron.wav not in the fn1 list.\n",
      "warn: 170_1b3_Al_mc_AKGC417L.wav not in the fn1 list.\n",
      "warn: 171_1b1_Al_sc_Meditron.wav not in the fn1 list.\n",
      "warn: 172_1b3_Ar_mc_AKGC417L.wav not in the fn1 list.\n",
      "warn: 173_1b1_Al_sc_Meditron.wav not in the fn1 list.\n",
      "warn: 174_2p3_Al_mc_AKGC417L.wav not in the fn1 list.\n",
      "warn: 178_1b2_Pl_mc_AKGC417L.wav not in the fn1 list.\n",
      "warn: 179_1b1_Al_sc_Meditron.wav not in the fn1 list.\n",
      "warn: 179_1b1_Tc_sc_Meditron.wav not in the fn1 list.\n",
      "warn: 182_1b1_Tc_sc_Meditron.wav not in the fn1 list.\n",
      "warn: 183_1b1_Pl_sc_Meditron.wav not in the fn1 list.\n",
      "warn: 183_1b1_Tc_sc_Meditron.wav not in the fn1 list.\n",
      "warn: 184_1b1_Ar_sc_Meditron.wav not in the fn1 list.\n",
      "warn: 186_2b2_Ar_mc_AKGC417L.wav not in the fn1 list.\n",
      "warn: 187_1b1_Ll_sc_Meditron.wav not in the fn1 list.\n",
      "warn: 188_1b1_Ar_sc_Meditron.wav not in the fn1 list.\n",
      "warn: 190_1b1_Tc_sc_Meditron.wav not in the fn1 list.\n",
      "warn: 193_7b3_Ar_mc_AKGC417L.wav not in the fn1 list.\n",
      "warn: 194_1b1_Lr_sc_Meditron.wav not in the fn1 list.\n",
      "warn: 194_1b1_Pr_sc_Meditron.wav not in the fn1 list.\n",
      "warn: 198_6p1_Tc_mc_AKGC417L.wav not in the fn1 list.\n",
      "warn: 199_2b1_Ll_mc_LittC2SE.wav not in the fn1 list.\n",
      "warn: 200_2p3_Ar_mc_AKGC417L.wav not in the fn1 list.\n",
      "warn: 202_1b1_Ar_sc_Meditron.wav not in the fn1 list.\n",
      "warn: 203_2p3_Al_mc_AKGC417L.wav not in the fn1 list.\n",
      "warn: 205_1b3_Lr_mc_AKGC417L.wav not in the fn1 list.\n"
     ]
    }
   ],
   "source": [
    "#root_path = Path(cwd,'./first_30')\n",
    "#root_path = Path(cwd,'./middle_29')\n",
    "root_path = Path(cwd,'./last_14')\n",
    "tar_s1_dir= 'test_my_source1'\n",
    "tar_s2_dir= 'test_my_source2'\n",
    "recons_dir = 'test_reconstruct'\n",
    "\n",
    "draw_filenames = []\n",
    "\n",
    "if len(glob.glob(f'{root_path}/{tar_s2_dir}/*.wav')) !=\\\n",
    "    len(glob.glob(f'{root_path}/{tar_s1_dir}/*.wav')):\n",
    "        print(\"warn: tar_s1_dir and tar_s2_dir 資料夾下檔案數量不一樣.\")\n",
    "\n",
    "for fn1 in [Path(_) for _ in glob.glob(f'{root_path}/{tar_s1_dir}/*.wav')]:\n",
    "    draw_filenames.append(fn1.name)\n",
    "    \n",
    "for fn2 in [Path(_) for _ in glob.glob(f'{root_path}/{tar_s2_dir}/*.wav')]:\n",
    "    if fn2.name not in draw_filenames:\n",
    "        print(f\"warn: {fn2.name} not in the fn1 list.\")\n"
   ]
  },
  {
   "cell_type": "code",
   "execution_count": 40,
   "id": "3e941c55-292b-46a2-b94f-8e8cc88288bf",
   "metadata": {},
   "outputs": [],
   "source": [
    "path1 = root_path.joinpath(tar_s1_dir)\n",
    "path2 = root_path.joinpath(tar_s2_dir)\n",
    "recon = root_path.joinpath(recons_dir)\n",
    "\n",
    "paths_pair = []\n",
    "for fn in draw_filenames:\n",
    "    fp1=path1.joinpath(fn)\n",
    "    fp2=path2.joinpath(fn)\n",
    "    if fp1.is_file() != True or fp2.is_file() != True:\n",
    "        raise ValueError(f\"錯誤的路徑: {fp1} or {fp2}\")\n",
    "    paths_pair.append((fp1, fp2))\n",
    "    \n",
    "    "
   ]
  },
  {
   "cell_type": "code",
   "execution_count": 41,
   "id": "307c9fb6-36ef-4510-a0f3-1e49bedc57d8",
   "metadata": {},
   "outputs": [],
   "source": [
    "# 兩張圖\n",
    "\n",
    "# s1 = paths_pair[0][0]\n",
    "# s2 = paths_pair[0][1]\n",
    "\n",
    "# y1, sr = librosa.load(s1, sr=8000)\n",
    "# y2, sr = librosa.load(s2, sr=8000)\n",
    "# D1 = librosa.stft(y1)  # STFT of y\n",
    "# D2 = librosa.stft(y2)  # STFT of y\n",
    "# S_db1 = librosa.amplitude_to_db(np.abs(D1), ref=np.max)\n",
    "# S_db2 = librosa.amplitude_to_db(np.abs(D2), ref=np.max)\n",
    "# fig, [axU,axD] = plt.subplots(nrows=2, ncols=1) \n",
    "# fig.suptitle(s1.name, fontsize=14)\n",
    "\n",
    "# axU.set(title=s1.parent.stem)\n",
    "# img = librosa.display.specshow(S_db1, ax=axU, y_axis='log', sr=sr)\n",
    "\n",
    "# axD.set(title=s2.parent.stem)\n",
    "# img = librosa.display.specshow(S_db2, ax=axD, y_axis='log', sr=sr)\n",
    "# plt.tight_layout()\n",
    "# fig.colorbar(img, ax=[axU,axD])\n"
   ]
  },
  {
   "cell_type": "code",
   "execution_count": 43,
   "id": "415b9c48-895a-4347-b76b-714bebda06a5",
   "metadata": {},
   "outputs": [
    {
     "name": "stdout",
     "output_type": "stream",
     "text": [
      "H:\\我的雲端硬碟\\元智大學\\論文\\論文實驗數據\\73數據\\3in1/206_1b1_Ar_sc_Meditron.wav_3in1.jpg\n",
      "H:\\我的雲端硬碟\\元智大學\\論文\\論文實驗數據\\73數據\\3in1/208_1b1_Ll_sc_Meditron.wav_3in1.jpg\n",
      "H:\\我的雲端硬碟\\元智大學\\論文\\論文實驗數據\\73數據\\3in1/209_1b1_Tc_sc_Meditron.wav_3in1.jpg\n",
      "H:\\我的雲端硬碟\\元智大學\\論文\\論文實驗數據\\73數據\\3in1/210_1b1_Al_sc_Meditron.wav_3in1.jpg\n",
      "H:\\我的雲端硬碟\\元智大學\\論文\\論文實驗數據\\73數據\\3in1/212_2b2_Tc_mc_LittC2SE.wav_3in1.jpg\n",
      "H:\\我的雲端硬碟\\元智大學\\論文\\論文實驗數據\\73數據\\3in1/213_2p2_Tc_mc_AKGC417L.wav_3in1.jpg\n",
      "H:\\我的雲端硬碟\\元智大學\\論文\\論文實驗數據\\73數據\\3in1/214_1b1_Ar_sc_Meditron.wav_3in1.jpg\n",
      "H:\\我的雲端硬碟\\元智大學\\論文\\論文實驗數據\\73數據\\3in1/216_1b1_Al_sc_Meditron.wav_3in1.jpg\n",
      "H:\\我的雲端硬碟\\元智大學\\論文\\論文實驗數據\\73數據\\3in1/217_1b1_Tc_sc_Meditron.wav_3in1.jpg\n",
      "H:\\我的雲端硬碟\\元智大學\\論文\\論文實驗數據\\73數據\\3in1/221_2b2_Al_mc_LittC2SE.wav_3in1.jpg\n",
      "H:\\我的雲端硬碟\\元智大學\\論文\\論文實驗數據\\73數據\\3in1/224_1b1_Tc_sc_Meditron.wav_3in1.jpg\n",
      "H:\\我的雲端硬碟\\元智大學\\論文\\論文實驗數據\\73數據\\3in1/224_1b2_Al_sc_Meditron.wav_3in1.jpg\n",
      "H:\\我的雲端硬碟\\元智大學\\論文\\論文實驗數據\\73數據\\3in1/225_1b1_Pl_sc_Meditron.wav_3in1.jpg\n",
      "H:\\我的雲端硬碟\\元智大學\\論文\\論文實驗數據\\73數據\\3in1/226_1b1_Ll_sc_Meditron.wav_3in1.jpg\n"
     ]
    }
   ],
   "source": [
    "for s1, s2 in paths_pair:\n",
    "    # s1 = paths_pair[0][0] # 1\n",
    "    # s2 = paths_pair[0][1] # 2\n",
    "    rc = recon.joinpath(s1.name)  # 重建的 path, 3\n",
    "\n",
    "    y1, sr = librosa.load(s1, sr=8000)\n",
    "    y2, sr = librosa.load(s2, sr=8000)\n",
    "    y3, sr = librosa.load(rc, sr=8000)\n",
    "    D1 = librosa.stft(y1)  # STFT of y\n",
    "    D2 = librosa.stft(y2)  # STFT of y\n",
    "    D3 = librosa.stft(y3)  # STFT of y\n",
    "    S_db1 = librosa.amplitude_to_db(np.abs(D1), ref=np.max)\n",
    "    S_db2 = librosa.amplitude_to_db(np.abs(D2), ref=np.max)\n",
    "    S_db3 = librosa.amplitude_to_db(np.abs(D3), ref=np.max)\n",
    "    fig, [axRC, axU, axD] = plt.subplots(nrows=3, ncols=1, figsize=(8, 10)) \n",
    "    fig.suptitle(s1.name, fontsize=14)\n",
    "\n",
    "    axRC.set(title=rc.parent.stem)\n",
    "    img = librosa.display.specshow(S_db3, ax=axRC, y_axis='log', sr=sr)\n",
    "\n",
    "    axU.set(title=s1.parent.stem)\n",
    "    img = librosa.display.specshow(S_db1, ax=axU, y_axis='log', sr=sr)\n",
    "\n",
    "    axD.set(title=s2.parent.stem)\n",
    "    img = librosa.display.specshow(S_db2, ax=axD, y_axis='log', sr=sr)\n",
    "    plt.tight_layout()\n",
    "    fig.colorbar(img, ax=[axRC, axU,axD]);\n",
    "\n",
    "    save_path = Path(cwd).joinpath(\"3in1\")\n",
    "    if save_path.is_dir() is False:\n",
    "        print(\"new dir:\", save_path)\n",
    "        os.makedirs(save_path, exist_ok=True)\n",
    "\n",
    "    print(f\"{save_path}/{s1.name}_3in1.jpg\")\n",
    "    plt.savefig(f\"{save_path}/{s1.name}_3in1.jpg\")\n",
    "    plt.close(fig)"
   ]
  },
  {
   "cell_type": "code",
   "execution_count": null,
   "id": "6eb48862-0a9a-44c8-9889-90a55a64f9e7",
   "metadata": {},
   "outputs": [],
   "source": []
  },
  {
   "cell_type": "code",
   "execution_count": null,
   "id": "7ea220a2-3d20-4a71-a9ca-02231984aaf8",
   "metadata": {},
   "outputs": [],
   "source": []
  },
  {
   "cell_type": "code",
   "execution_count": null,
   "id": "8b541a2b-3a72-4e5e-9c3a-92d193276e86",
   "metadata": {},
   "outputs": [],
   "source": []
  },
  {
   "cell_type": "code",
   "execution_count": null,
   "id": "bce1de84-bde0-4334-8b01-b7b039c339af",
   "metadata": {},
   "outputs": [],
   "source": []
  }
 ],
 "metadata": {
  "kernelspec": {
   "display_name": "Python 3 (ipykernel)",
   "language": "python",
   "name": "python3"
  },
  "language_info": {
   "codemirror_mode": {
    "name": "ipython",
    "version": 3
   },
   "file_extension": ".py",
   "mimetype": "text/x-python",
   "name": "python",
   "nbconvert_exporter": "python",
   "pygments_lexer": "ipython3",
   "version": "3.8.12"
  }
 },
 "nbformat": 4,
 "nbformat_minor": 5
}
